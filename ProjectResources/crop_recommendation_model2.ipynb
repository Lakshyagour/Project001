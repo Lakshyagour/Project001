{
 "cells": [
  {
   "cell_type": "code",
   "execution_count": 1,
   "metadata": {},
   "outputs": [],
   "source": [
    "import numpy as np\n",
    "import pandas as pd\n",
    "import matplotlib.pyplot as plt\n",
    "import seaborn as sns\n",
    "import pickle"
   ]
  },
  {
   "cell_type": "code",
   "execution_count": 2,
   "metadata": {},
   "outputs": [],
   "source": [
    "data=pd.read_csv('final_data.csv')"
   ]
  },
  {
   "cell_type": "code",
   "execution_count": 3,
   "metadata": {},
   "outputs": [],
   "source": [
    "data1=data.copy()"
   ]
  },
  {
   "cell_type": "code",
   "execution_count": 4,
   "metadata": {},
   "outputs": [],
   "source": [
    "data1.drop(['crop_type'],axis=1,inplace=True)"
   ]
  },
  {
   "cell_type": "code",
   "execution_count": 5,
   "metadata": {},
   "outputs": [
    {
     "data": {
      "text/html": [
       "<div>\n",
       "<style scoped>\n",
       "    .dataframe tbody tr th:only-of-type {\n",
       "        vertical-align: middle;\n",
       "    }\n",
       "\n",
       "    .dataframe tbody tr th {\n",
       "        vertical-align: top;\n",
       "    }\n",
       "\n",
       "    .dataframe thead th {\n",
       "        text-align: right;\n",
       "    }\n",
       "</style>\n",
       "<table border=\"1\" class=\"dataframe\">\n",
       "  <thead>\n",
       "    <tr style=\"text-align: right;\">\n",
       "      <th></th>\n",
       "      <th>pH</th>\n",
       "      <th>N</th>\n",
       "      <th>P</th>\n",
       "      <th>K</th>\n",
       "      <th>OC</th>\n",
       "      <th>Particles</th>\n",
       "      <th>Water_holding_content</th>\n",
       "      <th>Soil_type</th>\n",
       "    </tr>\n",
       "  </thead>\n",
       "  <tbody>\n",
       "    <tr>\n",
       "      <th>0</th>\n",
       "      <td>7.03</td>\n",
       "      <td>118.72</td>\n",
       "      <td>25.00</td>\n",
       "      <td>185.82</td>\n",
       "      <td>0.78</td>\n",
       "      <td>0.001686</td>\n",
       "      <td>1.40</td>\n",
       "      <td>clay</td>\n",
       "    </tr>\n",
       "    <tr>\n",
       "      <th>1</th>\n",
       "      <td>2.57</td>\n",
       "      <td>131.09</td>\n",
       "      <td>24.62</td>\n",
       "      <td>181.71</td>\n",
       "      <td>0.90</td>\n",
       "      <td>0.000381</td>\n",
       "      <td>1.31</td>\n",
       "      <td>clay</td>\n",
       "    </tr>\n",
       "    <tr>\n",
       "      <th>2</th>\n",
       "      <td>3.39</td>\n",
       "      <td>104.32</td>\n",
       "      <td>18.37</td>\n",
       "      <td>202.39</td>\n",
       "      <td>0.76</td>\n",
       "      <td>0.000226</td>\n",
       "      <td>1.35</td>\n",
       "      <td>clay</td>\n",
       "    </tr>\n",
       "    <tr>\n",
       "      <th>3</th>\n",
       "      <td>2.73</td>\n",
       "      <td>111.21</td>\n",
       "      <td>21.09</td>\n",
       "      <td>202.71</td>\n",
       "      <td>0.68</td>\n",
       "      <td>0.001399</td>\n",
       "      <td>1.22</td>\n",
       "      <td>clay</td>\n",
       "    </tr>\n",
       "    <tr>\n",
       "      <th>4</th>\n",
       "      <td>1.52</td>\n",
       "      <td>90.90</td>\n",
       "      <td>23.76</td>\n",
       "      <td>195.39</td>\n",
       "      <td>0.74</td>\n",
       "      <td>0.001587</td>\n",
       "      <td>1.21</td>\n",
       "      <td>clay</td>\n",
       "    </tr>\n",
       "  </tbody>\n",
       "</table>\n",
       "</div>"
      ],
      "text/plain": [
       "     pH       N      P       K    OC  Particles  Water_holding_content  \\\n",
       "0  7.03  118.72  25.00  185.82  0.78   0.001686                   1.40   \n",
       "1  2.57  131.09  24.62  181.71  0.90   0.000381                   1.31   \n",
       "2  3.39  104.32  18.37  202.39  0.76   0.000226                   1.35   \n",
       "3  2.73  111.21  21.09  202.71  0.68   0.001399                   1.22   \n",
       "4  1.52   90.90  23.76  195.39  0.74   0.001587                   1.21   \n",
       "\n",
       "  Soil_type  \n",
       "0      clay  \n",
       "1      clay  \n",
       "2      clay  \n",
       "3      clay  \n",
       "4      clay  "
      ]
     },
     "execution_count": 5,
     "metadata": {},
     "output_type": "execute_result"
    }
   ],
   "source": [
    "data1.head()"
   ]
  },
  {
   "cell_type": "code",
   "execution_count": 6,
   "metadata": {},
   "outputs": [
    {
     "data": {
      "text/html": [
       "<div>\n",
       "<style scoped>\n",
       "    .dataframe tbody tr th:only-of-type {\n",
       "        vertical-align: middle;\n",
       "    }\n",
       "\n",
       "    .dataframe tbody tr th {\n",
       "        vertical-align: top;\n",
       "    }\n",
       "\n",
       "    .dataframe thead th {\n",
       "        text-align: right;\n",
       "    }\n",
       "</style>\n",
       "<table border=\"1\" class=\"dataframe\">\n",
       "  <thead>\n",
       "    <tr style=\"text-align: right;\">\n",
       "      <th></th>\n",
       "      <th>pH</th>\n",
       "      <th>N</th>\n",
       "      <th>P</th>\n",
       "      <th>K</th>\n",
       "      <th>OC</th>\n",
       "      <th>Particles</th>\n",
       "      <th>Water_holding_content</th>\n",
       "      <th>Soil_type</th>\n",
       "      <th>crop_type</th>\n",
       "    </tr>\n",
       "  </thead>\n",
       "  <tbody>\n",
       "    <tr>\n",
       "      <th>0</th>\n",
       "      <td>7.03</td>\n",
       "      <td>118.72</td>\n",
       "      <td>25.00</td>\n",
       "      <td>185.82</td>\n",
       "      <td>0.78</td>\n",
       "      <td>0.001686</td>\n",
       "      <td>1.40</td>\n",
       "      <td>clay</td>\n",
       "      <td>carrot</td>\n",
       "    </tr>\n",
       "    <tr>\n",
       "      <th>1</th>\n",
       "      <td>2.57</td>\n",
       "      <td>131.09</td>\n",
       "      <td>24.62</td>\n",
       "      <td>181.71</td>\n",
       "      <td>0.90</td>\n",
       "      <td>0.000381</td>\n",
       "      <td>1.31</td>\n",
       "      <td>clay</td>\n",
       "      <td>carrot</td>\n",
       "    </tr>\n",
       "    <tr>\n",
       "      <th>2</th>\n",
       "      <td>3.39</td>\n",
       "      <td>104.32</td>\n",
       "      <td>18.37</td>\n",
       "      <td>202.39</td>\n",
       "      <td>0.76</td>\n",
       "      <td>0.000226</td>\n",
       "      <td>1.35</td>\n",
       "      <td>clay</td>\n",
       "      <td>carrot</td>\n",
       "    </tr>\n",
       "    <tr>\n",
       "      <th>3</th>\n",
       "      <td>2.73</td>\n",
       "      <td>111.21</td>\n",
       "      <td>21.09</td>\n",
       "      <td>202.71</td>\n",
       "      <td>0.68</td>\n",
       "      <td>0.001399</td>\n",
       "      <td>1.22</td>\n",
       "      <td>clay</td>\n",
       "      <td>carrot</td>\n",
       "    </tr>\n",
       "    <tr>\n",
       "      <th>4</th>\n",
       "      <td>1.52</td>\n",
       "      <td>90.90</td>\n",
       "      <td>23.76</td>\n",
       "      <td>195.39</td>\n",
       "      <td>0.74</td>\n",
       "      <td>0.001587</td>\n",
       "      <td>1.21</td>\n",
       "      <td>clay</td>\n",
       "      <td>carrot</td>\n",
       "    </tr>\n",
       "  </tbody>\n",
       "</table>\n",
       "</div>"
      ],
      "text/plain": [
       "     pH       N      P       K    OC  Particles  Water_holding_content  \\\n",
       "0  7.03  118.72  25.00  185.82  0.78   0.001686                   1.40   \n",
       "1  2.57  131.09  24.62  181.71  0.90   0.000381                   1.31   \n",
       "2  3.39  104.32  18.37  202.39  0.76   0.000226                   1.35   \n",
       "3  2.73  111.21  21.09  202.71  0.68   0.001399                   1.22   \n",
       "4  1.52   90.90  23.76  195.39  0.74   0.001587                   1.21   \n",
       "\n",
       "  Soil_type crop_type  \n",
       "0      clay    carrot  \n",
       "1      clay    carrot  \n",
       "2      clay    carrot  \n",
       "3      clay    carrot  \n",
       "4      clay    carrot  "
      ]
     },
     "execution_count": 6,
     "metadata": {},
     "output_type": "execute_result"
    }
   ],
   "source": [
    "data.head()"
   ]
  },
  {
   "cell_type": "code",
   "execution_count": 42,
   "metadata": {},
   "outputs": [
    {
     "data": {
      "text/html": [
       "<div>\n",
       "<style scoped>\n",
       "    .dataframe tbody tr th:only-of-type {\n",
       "        vertical-align: middle;\n",
       "    }\n",
       "\n",
       "    .dataframe tbody tr th {\n",
       "        vertical-align: top;\n",
       "    }\n",
       "\n",
       "    .dataframe thead th {\n",
       "        text-align: right;\n",
       "    }\n",
       "</style>\n",
       "<table border=\"1\" class=\"dataframe\">\n",
       "  <thead>\n",
       "    <tr style=\"text-align: right;\">\n",
       "      <th></th>\n",
       "      <th>pH</th>\n",
       "      <th>N</th>\n",
       "      <th>P</th>\n",
       "      <th>K</th>\n",
       "      <th>OC</th>\n",
       "      <th>Particles</th>\n",
       "      <th>Water_holding_content</th>\n",
       "    </tr>\n",
       "  </thead>\n",
       "  <tbody>\n",
       "    <tr>\n",
       "      <th>pH</th>\n",
       "      <td>1.000000</td>\n",
       "      <td>-0.712106</td>\n",
       "      <td>-0.724899</td>\n",
       "      <td>-0.715799</td>\n",
       "      <td>-0.679279</td>\n",
       "      <td>0.334492</td>\n",
       "      <td>0.418809</td>\n",
       "    </tr>\n",
       "    <tr>\n",
       "      <th>N</th>\n",
       "      <td>-0.712106</td>\n",
       "      <td>1.000000</td>\n",
       "      <td>0.818275</td>\n",
       "      <td>0.845193</td>\n",
       "      <td>0.845460</td>\n",
       "      <td>-0.578084</td>\n",
       "      <td>-0.175351</td>\n",
       "    </tr>\n",
       "    <tr>\n",
       "      <th>P</th>\n",
       "      <td>-0.724899</td>\n",
       "      <td>0.818275</td>\n",
       "      <td>1.000000</td>\n",
       "      <td>0.822211</td>\n",
       "      <td>0.802546</td>\n",
       "      <td>-0.477921</td>\n",
       "      <td>-0.295212</td>\n",
       "    </tr>\n",
       "    <tr>\n",
       "      <th>K</th>\n",
       "      <td>-0.715799</td>\n",
       "      <td>0.845193</td>\n",
       "      <td>0.822211</td>\n",
       "      <td>1.000000</td>\n",
       "      <td>0.861902</td>\n",
       "      <td>-0.598714</td>\n",
       "      <td>-0.141853</td>\n",
       "    </tr>\n",
       "    <tr>\n",
       "      <th>OC</th>\n",
       "      <td>-0.679279</td>\n",
       "      <td>0.845460</td>\n",
       "      <td>0.802546</td>\n",
       "      <td>0.861902</td>\n",
       "      <td>1.000000</td>\n",
       "      <td>-0.666949</td>\n",
       "      <td>-0.026386</td>\n",
       "    </tr>\n",
       "    <tr>\n",
       "      <th>Particles</th>\n",
       "      <td>0.334492</td>\n",
       "      <td>-0.578084</td>\n",
       "      <td>-0.477921</td>\n",
       "      <td>-0.598714</td>\n",
       "      <td>-0.666949</td>\n",
       "      <td>1.000000</td>\n",
       "      <td>-0.413970</td>\n",
       "    </tr>\n",
       "    <tr>\n",
       "      <th>Water_holding_content</th>\n",
       "      <td>0.418809</td>\n",
       "      <td>-0.175351</td>\n",
       "      <td>-0.295212</td>\n",
       "      <td>-0.141853</td>\n",
       "      <td>-0.026386</td>\n",
       "      <td>-0.413970</td>\n",
       "      <td>1.000000</td>\n",
       "    </tr>\n",
       "  </tbody>\n",
       "</table>\n",
       "</div>"
      ],
      "text/plain": [
       "                             pH         N         P         K        OC  \\\n",
       "pH                     1.000000 -0.712106 -0.724899 -0.715799 -0.679279   \n",
       "N                     -0.712106  1.000000  0.818275  0.845193  0.845460   \n",
       "P                     -0.724899  0.818275  1.000000  0.822211  0.802546   \n",
       "K                     -0.715799  0.845193  0.822211  1.000000  0.861902   \n",
       "OC                    -0.679279  0.845460  0.802546  0.861902  1.000000   \n",
       "Particles              0.334492 -0.578084 -0.477921 -0.598714 -0.666949   \n",
       "Water_holding_content  0.418809 -0.175351 -0.295212 -0.141853 -0.026386   \n",
       "\n",
       "                       Particles  Water_holding_content  \n",
       "pH                      0.334492               0.418809  \n",
       "N                      -0.578084              -0.175351  \n",
       "P                      -0.477921              -0.295212  \n",
       "K                      -0.598714              -0.141853  \n",
       "OC                     -0.666949              -0.026386  \n",
       "Particles               1.000000              -0.413970  \n",
       "Water_holding_content  -0.413970               1.000000  "
      ]
     },
     "execution_count": 42,
     "metadata": {},
     "output_type": "execute_result"
    }
   ],
   "source": [
    "data.corr()"
   ]
  },
  {
   "cell_type": "code",
   "execution_count": 7,
   "metadata": {},
   "outputs": [
    {
     "data": {
      "text/plain": [
       "10"
      ]
     },
     "execution_count": 7,
     "metadata": {},
     "output_type": "execute_result"
    }
   ],
   "source": [
    "len(data['crop_type'].unique())"
   ]
  },
  {
   "cell_type": "code",
   "execution_count": 129,
   "metadata": {},
   "outputs": [
    {
     "data": {
      "text/plain": [
       "pH                       False\n",
       "N                        False\n",
       "P                        False\n",
       "K                        False\n",
       "OC                       False\n",
       "Particles                False\n",
       "Water_holding_content    False\n",
       "dtype: bool"
      ]
     },
     "execution_count": 129,
     "metadata": {},
     "output_type": "execute_result"
    }
   ],
   "source": [
    "data1.isnull().any()"
   ]
  },
  {
   "cell_type": "code",
   "execution_count": 9,
   "metadata": {},
   "outputs": [],
   "source": [
    "label=data['crop_type']"
   ]
  },
  {
   "cell_type": "code",
   "execution_count": 26,
   "metadata": {},
   "outputs": [],
   "source": [
    "data1.drop('Soil_type',axis=1,inplace=True)"
   ]
  },
  {
   "cell_type": "code",
   "execution_count": 27,
   "metadata": {},
   "outputs": [],
   "source": [
    "y=pd.get_dummies(label)"
   ]
  },
  {
   "cell_type": "code",
   "execution_count": 95,
   "metadata": {},
   "outputs": [],
   "source": [
    "Y=label"
   ]
  },
  {
   "cell_type": "code",
   "execution_count": 96,
   "metadata": {},
   "outputs": [],
   "source": [
    "labels=y.columns"
   ]
  },
  {
   "cell_type": "code",
   "execution_count": 28,
   "metadata": {},
   "outputs": [],
   "source": [
    "X=pd.get_dummies(data1)\n"
   ]
  },
  {
   "cell_type": "code",
   "execution_count": 12,
   "metadata": {},
   "outputs": [
    {
     "data": {
      "text/plain": [
       "(999, 10)"
      ]
     },
     "execution_count": 12,
     "metadata": {},
     "output_type": "execute_result"
    }
   ],
   "source": [
    "X.shape"
   ]
  },
  {
   "cell_type": "code",
   "execution_count": 13,
   "metadata": {},
   "outputs": [],
   "source": [
    "from sklearn.model_selection import train_test_split"
   ]
  },
  {
   "cell_type": "code",
   "execution_count": 103,
   "metadata": {},
   "outputs": [],
   "source": [
    "X_train,X_test,y_train,y_test=train_test_split(X,Y,random_state=0,test_size=.15)"
   ]
  },
  {
   "cell_type": "code",
   "execution_count": 138,
   "metadata": {},
   "outputs": [],
   "source": [
    "from sklearn.model_selection import train_test_split\n",
    "from sklearn.neighbors import KNeighborsClassifier\n",
    "from sklearn.ensemble import RandomForestClassifier\n",
    "\n",
    "from sklearn.model_selection import GridSearchCV"
   ]
  },
  {
   "cell_type": "code",
   "execution_count": 130,
   "metadata": {},
   "outputs": [],
   "source": [
    "gd=GridSearchCV(RandomForestClassifier(),{'n_estimators':[50,100,150],'max_depth':[3,5,9]},cv=5).fit(X,Y)"
   ]
  },
  {
   "cell_type": "code",
   "execution_count": 144,
   "metadata": {},
   "outputs": [],
   "source": [
    "kd=GridSearchCV(KNeighborsClassifier(),{'n_neighbors':[5,7,9,11]},cv=5).fit(X,Y)"
   ]
  },
  {
   "cell_type": "code",
   "execution_count": 145,
   "metadata": {},
   "outputs": [
    {
     "data": {
      "text/plain": [
       "{'max_depth': 3, 'n_estimators': 50}"
      ]
     },
     "execution_count": 145,
     "metadata": {},
     "output_type": "execute_result"
    }
   ],
   "source": [
    "gd.best_params_"
   ]
  },
  {
   "cell_type": "code",
   "execution_count": 146,
   "metadata": {},
   "outputs": [
    {
     "data": {
      "text/plain": [
       "{'n_neighbors': 9}"
      ]
     },
     "execution_count": 146,
     "metadata": {},
     "output_type": "execute_result"
    }
   ],
   "source": [
    "kd.best_params_"
   ]
  },
  {
   "cell_type": "code",
   "execution_count": 147,
   "metadata": {},
   "outputs": [
    {
     "data": {
      "text/plain": [
       "0.46046046046046046"
      ]
     },
     "execution_count": 147,
     "metadata": {},
     "output_type": "execute_result"
    }
   ],
   "source": [
    "gd.best_estimator_.score(X,Y)"
   ]
  },
  {
   "cell_type": "code",
   "execution_count": 148,
   "metadata": {},
   "outputs": [
    {
     "data": {
      "text/plain": [
       "0.5385385385385385"
      ]
     },
     "execution_count": 148,
     "metadata": {},
     "output_type": "execute_result"
    }
   ],
   "source": [
    "kd.best_estimator_.score(X,Y)"
   ]
  },
  {
   "cell_type": "code",
   "execution_count": 149,
   "metadata": {},
   "outputs": [
    {
     "data": {
      "text/plain": [
       "0.5265017667844523"
      ]
     },
     "execution_count": 149,
     "metadata": {},
     "output_type": "execute_result"
    }
   ],
   "source": [
    "kd.best_estimator_.score(X_train,y_train)"
   ]
  },
  {
   "cell_type": "code",
   "execution_count": 150,
   "metadata": {},
   "outputs": [
    {
     "data": {
      "text/plain": [
       "0.6066666666666667"
      ]
     },
     "execution_count": 150,
     "metadata": {},
     "output_type": "execute_result"
    }
   ],
   "source": [
    "kd.best_estimator_.score(X_test,y_test)"
   ]
  },
  {
   "cell_type": "code",
   "execution_count": 73,
   "metadata": {},
   "outputs": [],
   "source": [
    "import tensorflow as tf"
   ]
  },
  {
   "cell_type": "code",
   "execution_count": 77,
   "metadata": {},
   "outputs": [],
   "source": [
    "from tensorflow.keras.models import Sequential\n",
    "from tensorflow.keras.layers import Dense,BatchNormalization\n",
    "from tensorflow.keras.models import load_model \n",
    "from kerastuner.tuners import RandomSearch \n",
    "from tensorflow.keras.optimizers import Adam"
   ]
  },
  {
   "cell_type": "code",
   "execution_count": 78,
   "metadata": {},
   "outputs": [],
   "source": [
    "def build_model(hp):\n",
    "    model=Sequential()\n",
    "    model.add(Dense(units=hp.Int('layer1',min_value=30,max_value=240,step=30),input_dim=7,activation='relu'))\n",
    "    model.add(Dense(units=hp.Int('layer2',min_value=30,max_value=240,step=30),activation='relu'))\n",
    "    model.add(Dense(units=hp.Int('layer3',min_value=30,max_value=240,step=30),activation='relu'))\n",
    "    model.add(BatchNormalization())    \n",
    "    model.add(Dense(10,activation='softmax'))\n",
    "    model.compile(loss='categorical_crossentropy',optimizer=Adam(hp.Choice('lr',values=[0.1,0.01,0.001])),metrics=['accuracy'])\n",
    "    return model"
   ]
  },
  {
   "cell_type": "code",
   "execution_count": 79,
   "metadata": {},
   "outputs": [],
   "source": [
    "tuner=RandomSearch(build_model,objective='val_accuracy',max_trials=5,project_name='trail')"
   ]
  },
  {
   "cell_type": "code",
   "execution_count": 80,
   "metadata": {},
   "outputs": [
    {
     "name": "stdout",
     "output_type": "stream",
     "text": [
      "Train on 849 samples, validate on 150 samples\n",
      "Epoch 1/5\n",
      "849/849 [==============================] - ETA: 2:55 - loss: 2.9040 - accuracy: 0.0000e+ - ETA: 39s - loss: 2.0007 - accuracy: 0.2969     - ETA: 30s - loss: 1.9777 - accuracy: 0.281 - ETA: 13s - loss: 1.8661 - accuracy: 0.274 - ETA: 7s - loss: 1.7743 - accuracy: 0.293 - ETA: 2s - loss: 1.6949 - accuracy: 0.32 - ETA: 0s - loss: 1.6446 - accuracy: 0.32 - 9s 10ms/sample - loss: 1.6413 - accuracy: 0.3251 - val_loss: 23.5188 - val_accuracy: 0.1667\n",
      "Epoch 2/5\n",
      "849/849 [==============================] - ETA: 0s - loss: 1.4414 - accuracy: 0.43 - ETA: 0s - loss: 1.4369 - accuracy: 0.43 - ETA: 0s - loss: 1.4634 - accuracy: 0.41 - ETA: 0s - loss: 1.4607 - accuracy: 0.40 - ETA: 0s - loss: 1.4807 - accuracy: 0.37 - ETA: 0s - loss: 1.4788 - accuracy: 0.37 - ETA: 0s - loss: 1.4952 - accuracy: 0.37 - 1s 879us/sample - loss: 1.4826 - accuracy: 0.3828 - val_loss: 12.2405 - val_accuracy: 0.1667\n",
      "Epoch 3/5\n",
      "849/849 [==============================] - ETA: 0s - loss: 1.2185 - accuracy: 0.46 - ETA: 0s - loss: 1.3483 - accuracy: 0.40 - ETA: 0s - loss: 1.3568 - accuracy: 0.38 - ETA: 0s - loss: 1.3601 - accuracy: 0.38 - ETA: 0s - loss: 1.3659 - accuracy: 0.38 - 0s 370us/sample - loss: 1.3539 - accuracy: 0.4016 - val_loss: 8.3822 - val_accuracy: 0.1667\n",
      "Epoch 4/5\n",
      "849/849 [==============================] - ETA: 0s - loss: 1.1815 - accuracy: 0.53 - ETA: 0s - loss: 1.3199 - accuracy: 0.45 - ETA: 0s - loss: 1.4205 - accuracy: 0.37 - ETA: 0s - loss: 1.4112 - accuracy: 0.36 - ETA: 0s - loss: 1.4002 - accuracy: 0.37 - ETA: 0s - loss: 1.3948 - accuracy: 0.36 - 0s 523us/sample - loss: 1.3940 - accuracy: 0.3698 - val_loss: 3.2724 - val_accuracy: 0.1333\n",
      "Epoch 5/5\n",
      "849/849 [==============================] - ETA: 0s - loss: 1.4004 - accuracy: 0.28 - ETA: 0s - loss: 1.3277 - accuracy: 0.40 - ETA: 0s - loss: 1.3576 - accuracy: 0.41 - 1s 626us/sample - loss: 1.3516 - accuracy: 0.3922 - val_loss: 2.5091 - val_accuracy: 0.3467\n"
     ]
    },
    {
     "data": {
      "text/html": [
       "<span style=\"color:#4527A0\"><h1 style=\"font-size:18px\">Trial complete</h1></span>"
      ],
      "text/plain": [
       "<IPython.core.display.HTML object>"
      ]
     },
     "metadata": {},
     "output_type": "display_data"
    },
    {
     "data": {
      "text/html": [
       "<span style=\"color:#4527A0\"><h1 style=\"font-size:18px\">Trial summary</h1></span>"
      ],
      "text/plain": [
       "<IPython.core.display.HTML object>"
      ]
     },
     "metadata": {},
     "output_type": "display_data"
    },
    {
     "data": {
      "text/html": [
       "<span style=\"color:#7E57C2\"><h2 style=\"font-size:16px\">Hp values:</h2></span>"
      ],
      "text/plain": [
       "<IPython.core.display.HTML object>"
      ]
     },
     "metadata": {},
     "output_type": "display_data"
    },
    {
     "data": {
      "text/html": [
       "<span style=\"color:cyan\"> |-layer1: 120</span>"
      ],
      "text/plain": [
       "<IPython.core.display.HTML object>"
      ]
     },
     "metadata": {},
     "output_type": "display_data"
    },
    {
     "data": {
      "text/html": [
       "<span style=\"color:blue\"> |-layer2: 240</span>"
      ],
      "text/plain": [
       "<IPython.core.display.HTML object>"
      ]
     },
     "metadata": {},
     "output_type": "display_data"
    },
    {
     "data": {
      "text/html": [
       "<span style=\"color:cyan\"> |-layer3: 180</span>"
      ],
      "text/plain": [
       "<IPython.core.display.HTML object>"
      ]
     },
     "metadata": {},
     "output_type": "display_data"
    },
    {
     "data": {
      "text/html": [
       "<span style=\"color:blue\"> |-lr: 0.01</span>"
      ],
      "text/plain": [
       "<IPython.core.display.HTML object>"
      ]
     },
     "metadata": {},
     "output_type": "display_data"
    },
    {
     "data": {
      "text/html": [
       "<span style=\"color:cyan\"> |-Score: 0.3466666638851166</span>"
      ],
      "text/plain": [
       "<IPython.core.display.HTML object>"
      ]
     },
     "metadata": {},
     "output_type": "display_data"
    },
    {
     "data": {
      "text/html": [
       "<span style=\"color:cyan\"> |-Best step: 0</span>"
      ],
      "text/plain": [
       "<IPython.core.display.HTML object>"
      ]
     },
     "metadata": {},
     "output_type": "display_data"
    },
    {
     "name": "stdout",
     "output_type": "stream",
     "text": [
      "Train on 849 samples, validate on 150 samples\n",
      "Epoch 1/5\n",
      "849/849 [==============================] - ETA: 46s - loss: 2.1606 - accuracy: 0.187 - ETA: 1s - loss: 2.1435 - accuracy: 0.290 - 3s 3ms/sample - loss: 1.9182 - accuracy: 0.2980 - val_loss: 42.8538 - val_accuracy: 0.1667\n",
      "Epoch 2/5\n",
      "849/849 [==============================] - ETA: 0s - loss: 1.6178 - accuracy: 0.21 - ETA: 0s - loss: 1.4942 - accuracy: 0.32 - 0s 184us/sample - loss: 1.5003 - accuracy: 0.3333 - val_loss: 18.3670 - val_accuracy: 0.1667\n",
      "Epoch 3/5\n",
      "849/849 [==============================] - ETA: 0s - loss: 1.5911 - accuracy: 0.34 - ETA: 0s - loss: 1.5565 - accuracy: 0.32 - 0s 166us/sample - loss: 1.5542 - accuracy: 0.3404 - val_loss: 3.1564 - val_accuracy: 0.1467\n",
      "Epoch 4/5\n",
      "849/849 [==============================] - ETA: 0s - loss: 1.2633 - accuracy: 0.46 - ETA: 0s - loss: 1.6748 - accuracy: 0.29 - ETA: 0s - loss: 1.6640 - accuracy: 0.28 - 0s 221us/sample - loss: 1.6333 - accuracy: 0.3004 - val_loss: 2.7960 - val_accuracy: 0.1333\n",
      "Epoch 5/5\n",
      "849/849 [==============================] - ETA: 0s - loss: 1.5677 - accuracy: 0.31 - ETA: 0s - loss: 1.5500 - accuracy: 0.34 - ETA: 0s - loss: 1.4872 - accuracy: 0.35 - ETA: 0s - loss: 1.4693 - accuracy: 0.35 - 1s 826us/sample - loss: 1.4609 - accuracy: 0.3569 - val_loss: 4.1350 - val_accuracy: 0.2667\n"
     ]
    },
    {
     "data": {
      "text/html": [
       "<span style=\"color:#4527A0\"><h1 style=\"font-size:18px\">Trial complete</h1></span>"
      ],
      "text/plain": [
       "<IPython.core.display.HTML object>"
      ]
     },
     "metadata": {},
     "output_type": "display_data"
    },
    {
     "data": {
      "text/html": [
       "<span style=\"color:#4527A0\"><h1 style=\"font-size:18px\">Trial summary</h1></span>"
      ],
      "text/plain": [
       "<IPython.core.display.HTML object>"
      ]
     },
     "metadata": {},
     "output_type": "display_data"
    },
    {
     "data": {
      "text/html": [
       "<span style=\"color:#7E57C2\"><h2 style=\"font-size:16px\">Hp values:</h2></span>"
      ],
      "text/plain": [
       "<IPython.core.display.HTML object>"
      ]
     },
     "metadata": {},
     "output_type": "display_data"
    },
    {
     "data": {
      "text/html": [
       "<span style=\"color:cyan\"> |-layer1: 180</span>"
      ],
      "text/plain": [
       "<IPython.core.display.HTML object>"
      ]
     },
     "metadata": {},
     "output_type": "display_data"
    },
    {
     "data": {
      "text/html": [
       "<span style=\"color:blue\"> |-layer2: 180</span>"
      ],
      "text/plain": [
       "<IPython.core.display.HTML object>"
      ]
     },
     "metadata": {},
     "output_type": "display_data"
    },
    {
     "data": {
      "text/html": [
       "<span style=\"color:cyan\"> |-layer3: 120</span>"
      ],
      "text/plain": [
       "<IPython.core.display.HTML object>"
      ]
     },
     "metadata": {},
     "output_type": "display_data"
    },
    {
     "data": {
      "text/html": [
       "<span style=\"color:blue\"> |-lr: 0.1</span>"
      ],
      "text/plain": [
       "<IPython.core.display.HTML object>"
      ]
     },
     "metadata": {},
     "output_type": "display_data"
    },
    {
     "data": {
      "text/html": [
       "<span style=\"color:cyan\"> |-Score: 0.2666666805744171</span>"
      ],
      "text/plain": [
       "<IPython.core.display.HTML object>"
      ]
     },
     "metadata": {},
     "output_type": "display_data"
    },
    {
     "data": {
      "text/html": [
       "<span style=\"color:cyan\"> |-Best step: 0</span>"
      ],
      "text/plain": [
       "<IPython.core.display.HTML object>"
      ]
     },
     "metadata": {},
     "output_type": "display_data"
    },
    {
     "name": "stdout",
     "output_type": "stream",
     "text": [
      "Train on 849 samples, validate on 150 samples\n",
      "Epoch 1/5\n",
      "849/849 [==============================] - ETA: 42s - loss: 2.8878 - accuracy: 0.0000e+0 - ETA: 1s - loss: 1.8636 - accuracy: 0.2837    - ETA: 0s - loss: 1.7385 - accuracy: 0.29 - 3s 3ms/sample - loss: 1.7027 - accuracy: 0.3062 - val_loss: 21.0761 - val_accuracy: 0.1333\n",
      "Epoch 2/5\n",
      "849/849 [==============================] - ETA: 0s - loss: 1.5981 - accuracy: 0.34 - ETA: 0s - loss: 1.4173 - accuracy: 0.42 - 0s 166us/sample - loss: 1.4111 - accuracy: 0.3993 - val_loss: 15.4450 - val_accuracy: 0.0800\n",
      "Epoch 3/5\n",
      "849/849 [==============================] - ETA: 0s - loss: 1.4459 - accuracy: 0.31 - ETA: 0s - loss: 1.4872 - accuracy: 0.28 - ETA: 0s - loss: 1.3980 - accuracy: 0.36 - 1s 1ms/sample - loss: 1.4023 - accuracy: 0.3769 - val_loss: 13.5287 - val_accuracy: 0.2067\n",
      "Epoch 4/5\n",
      "849/849 [==============================] - ETA: 0s - loss: 1.2236 - accuracy: 0.46 - ETA: 0s - loss: 1.3313 - accuracy: 0.35 - ETA: 0s - loss: 1.3685 - accuracy: 0.36 - 0s 184us/sample - loss: 1.3669 - accuracy: 0.3663 - val_loss: 4.8035 - val_accuracy: 0.2000\n",
      "Epoch 5/5\n",
      "849/849 [==============================] - ETA: 0s - loss: 1.1500 - accuracy: 0.53 - ETA: 0s - loss: 1.3380 - accuracy: 0.39 - 0s 350us/sample - loss: 1.3294 - accuracy: 0.3910 - val_loss: 3.9234 - val_accuracy: 0.2133\n"
     ]
    },
    {
     "data": {
      "text/html": [
       "<span style=\"color:#4527A0\"><h1 style=\"font-size:18px\">Trial complete</h1></span>"
      ],
      "text/plain": [
       "<IPython.core.display.HTML object>"
      ]
     },
     "metadata": {},
     "output_type": "display_data"
    },
    {
     "data": {
      "text/html": [
       "<span style=\"color:#4527A0\"><h1 style=\"font-size:18px\">Trial summary</h1></span>"
      ],
      "text/plain": [
       "<IPython.core.display.HTML object>"
      ]
     },
     "metadata": {},
     "output_type": "display_data"
    },
    {
     "data": {
      "text/html": [
       "<span style=\"color:#7E57C2\"><h2 style=\"font-size:16px\">Hp values:</h2></span>"
      ],
      "text/plain": [
       "<IPython.core.display.HTML object>"
      ]
     },
     "metadata": {},
     "output_type": "display_data"
    },
    {
     "data": {
      "text/html": [
       "<span style=\"color:cyan\"> |-layer1: 150</span>"
      ],
      "text/plain": [
       "<IPython.core.display.HTML object>"
      ]
     },
     "metadata": {},
     "output_type": "display_data"
    },
    {
     "data": {
      "text/html": [
       "<span style=\"color:blue\"> |-layer2: 120</span>"
      ],
      "text/plain": [
       "<IPython.core.display.HTML object>"
      ]
     },
     "metadata": {},
     "output_type": "display_data"
    },
    {
     "data": {
      "text/html": [
       "<span style=\"color:cyan\"> |-layer3: 180</span>"
      ],
      "text/plain": [
       "<IPython.core.display.HTML object>"
      ]
     },
     "metadata": {},
     "output_type": "display_data"
    },
    {
     "data": {
      "text/html": [
       "<span style=\"color:blue\"> |-lr: 0.01</span>"
      ],
      "text/plain": [
       "<IPython.core.display.HTML object>"
      ]
     },
     "metadata": {},
     "output_type": "display_data"
    },
    {
     "data": {
      "text/html": [
       "<span style=\"color:cyan\"> |-Score: 0.2133333384990692</span>"
      ],
      "text/plain": [
       "<IPython.core.display.HTML object>"
      ]
     },
     "metadata": {},
     "output_type": "display_data"
    },
    {
     "data": {
      "text/html": [
       "<span style=\"color:cyan\"> |-Best step: 0</span>"
      ],
      "text/plain": [
       "<IPython.core.display.HTML object>"
      ]
     },
     "metadata": {},
     "output_type": "display_data"
    },
    {
     "name": "stdout",
     "output_type": "stream",
     "text": [
      "Train on 849 samples, validate on 150 samples\n",
      "Epoch 1/5\n",
      "849/849 [==============================] - ETA: 36s - loss: 2.8861 - accuracy: 0.125 - ETA: 1s - loss: 2.2152 - accuracy: 0.209 - ETA: 0s - loss: 2.0146 - accuracy: 0.25 - 2s 3ms/sample - loss: 2.0080 - accuracy: 0.2580 - val_loss: 5.3604 - val_accuracy: 0.1467\n",
      "Epoch 2/5\n",
      "849/849 [==============================] - ETA: 0s - loss: 1.7156 - accuracy: 0.31 - ETA: 0s - loss: 1.6688 - accuracy: 0.33 - ETA: 0s - loss: 1.6488 - accuracy: 0.33 - ETA: 0s - loss: 1.6182 - accuracy: 0.35 - 0s 274us/sample - loss: 1.6136 - accuracy: 0.3522 - val_loss: 3.8746 - val_accuracy: 0.1133\n",
      "Epoch 3/5\n",
      "849/849 [==============================] - ETA: 0s - loss: 1.4407 - accuracy: 0.46 - ETA: 0s - loss: 1.5122 - accuracy: 0.37 - ETA: 0s - loss: 1.5202 - accuracy: 0.37 - 1s 782us/sample - loss: 1.5171 - accuracy: 0.3746 - val_loss: 3.1539 - val_accuracy: 0.1667\n",
      "Epoch 4/5\n",
      "849/849 [==============================] - ETA: 0s - loss: 1.3929 - accuracy: 0.53 - ETA: 0s - loss: 1.4651 - accuracy: 0.41 - 0s 137us/sample - loss: 1.4658 - accuracy: 0.4040 - val_loss: 2.2995 - val_accuracy: 0.0933\n",
      "Epoch 5/5\n",
      "849/849 [==============================] - ETA: 0s - loss: 1.4202 - accuracy: 0.37 - ETA: 0s - loss: 1.4147 - accuracy: 0.39 - 0s 486us/sample - loss: 1.4025 - accuracy: 0.4099 - val_loss: 1.8004 - val_accuracy: 0.3000\n"
     ]
    },
    {
     "data": {
      "text/html": [
       "<span style=\"color:#4527A0\"><h1 style=\"font-size:18px\">Trial complete</h1></span>"
      ],
      "text/plain": [
       "<IPython.core.display.HTML object>"
      ]
     },
     "metadata": {},
     "output_type": "display_data"
    },
    {
     "data": {
      "text/html": [
       "<span style=\"color:#4527A0\"><h1 style=\"font-size:18px\">Trial summary</h1></span>"
      ],
      "text/plain": [
       "<IPython.core.display.HTML object>"
      ]
     },
     "metadata": {},
     "output_type": "display_data"
    },
    {
     "data": {
      "text/html": [
       "<span style=\"color:#7E57C2\"><h2 style=\"font-size:16px\">Hp values:</h2></span>"
      ],
      "text/plain": [
       "<IPython.core.display.HTML object>"
      ]
     },
     "metadata": {},
     "output_type": "display_data"
    },
    {
     "data": {
      "text/html": [
       "<span style=\"color:cyan\"> |-layer1: 120</span>"
      ],
      "text/plain": [
       "<IPython.core.display.HTML object>"
      ]
     },
     "metadata": {},
     "output_type": "display_data"
    },
    {
     "data": {
      "text/html": [
       "<span style=\"color:blue\"> |-layer2: 120</span>"
      ],
      "text/plain": [
       "<IPython.core.display.HTML object>"
      ]
     },
     "metadata": {},
     "output_type": "display_data"
    },
    {
     "data": {
      "text/html": [
       "<span style=\"color:cyan\"> |-layer3: 90</span>"
      ],
      "text/plain": [
       "<IPython.core.display.HTML object>"
      ]
     },
     "metadata": {},
     "output_type": "display_data"
    },
    {
     "data": {
      "text/html": [
       "<span style=\"color:blue\"> |-lr: 0.001</span>"
      ],
      "text/plain": [
       "<IPython.core.display.HTML object>"
      ]
     },
     "metadata": {},
     "output_type": "display_data"
    },
    {
     "data": {
      "text/html": [
       "<span style=\"color:cyan\"> |-Score: 0.30000001192092896</span>"
      ],
      "text/plain": [
       "<IPython.core.display.HTML object>"
      ]
     },
     "metadata": {},
     "output_type": "display_data"
    },
    {
     "data": {
      "text/html": [
       "<span style=\"color:cyan\"> |-Best step: 0</span>"
      ],
      "text/plain": [
       "<IPython.core.display.HTML object>"
      ]
     },
     "metadata": {},
     "output_type": "display_data"
    },
    {
     "name": "stdout",
     "output_type": "stream",
     "text": [
      "Train on 849 samples, validate on 150 samples\n",
      "Epoch 1/5\n",
      "849/849 [==============================] - ETA: 41s - loss: 3.4204 - accuracy: 0.062 - ETA: 1s - loss: 1.9364 - accuracy: 0.266 - ETA: 0s - loss: 1.7525 - accuracy: 0.31 - 3s 3ms/sample - loss: 1.7446 - accuracy: 0.3192 - val_loss: 24.5826 - val_accuracy: 0.1667\n",
      "Epoch 2/5\n",
      "849/849 [==============================] - ETA: 0s - loss: 1.4575 - accuracy: 0.37 - ETA: 0s - loss: 1.4484 - accuracy: 0.41 - ETA: 0s - loss: 1.4612 - accuracy: 0.40 - 0s 173us/sample - loss: 1.4524 - accuracy: 0.3993 - val_loss: 12.7409 - val_accuracy: 0.0800\n",
      "Epoch 3/5\n",
      "849/849 [==============================] - ETA: 0s - loss: 1.4420 - accuracy: 0.31 - ETA: 0s - loss: 1.3935 - accuracy: 0.36 - ETA: 0s - loss: 1.3755 - accuracy: 0.36 - 0s 236us/sample - loss: 1.4015 - accuracy: 0.3734 - val_loss: 5.5194 - val_accuracy: 0.1667\n",
      "Epoch 4/5\n",
      "849/849 [==============================] - ETA: 0s - loss: 1.6817 - accuracy: 0.18 - ETA: 0s - loss: 1.4040 - accuracy: 0.35 - ETA: 0s - loss: 1.4106 - accuracy: 0.37 - 0s 517us/sample - loss: 1.3967 - accuracy: 0.3710 - val_loss: 8.2910 - val_accuracy: 0.1933\n",
      "Epoch 5/5\n",
      "849/849 [==============================] - ETA: 0s - loss: 1.1837 - accuracy: 0.53 - ETA: 0s - loss: 1.3062 - accuracy: 0.44 - ETA: 0s - loss: 1.3310 - accuracy: 0.39 - 0s 236us/sample - loss: 1.3322 - accuracy: 0.3828 - val_loss: 5.1608 - val_accuracy: 0.1800\n"
     ]
    },
    {
     "data": {
      "text/html": [
       "<span style=\"color:#4527A0\"><h1 style=\"font-size:18px\">Trial complete</h1></span>"
      ],
      "text/plain": [
       "<IPython.core.display.HTML object>"
      ]
     },
     "metadata": {},
     "output_type": "display_data"
    },
    {
     "data": {
      "text/html": [
       "<span style=\"color:#4527A0\"><h1 style=\"font-size:18px\">Trial summary</h1></span>"
      ],
      "text/plain": [
       "<IPython.core.display.HTML object>"
      ]
     },
     "metadata": {},
     "output_type": "display_data"
    },
    {
     "data": {
      "text/html": [
       "<span style=\"color:#7E57C2\"><h2 style=\"font-size:16px\">Hp values:</h2></span>"
      ],
      "text/plain": [
       "<IPython.core.display.HTML object>"
      ]
     },
     "metadata": {},
     "output_type": "display_data"
    },
    {
     "data": {
      "text/html": [
       "<span style=\"color:cyan\"> |-layer1: 240</span>"
      ],
      "text/plain": [
       "<IPython.core.display.HTML object>"
      ]
     },
     "metadata": {},
     "output_type": "display_data"
    },
    {
     "data": {
      "text/html": [
       "<span style=\"color:blue\"> |-layer2: 210</span>"
      ],
      "text/plain": [
       "<IPython.core.display.HTML object>"
      ]
     },
     "metadata": {},
     "output_type": "display_data"
    },
    {
     "data": {
      "text/html": [
       "<span style=\"color:cyan\"> |-layer3: 90</span>"
      ],
      "text/plain": [
       "<IPython.core.display.HTML object>"
      ]
     },
     "metadata": {},
     "output_type": "display_data"
    },
    {
     "data": {
      "text/html": [
       "<span style=\"color:blue\"> |-lr: 0.01</span>"
      ],
      "text/plain": [
       "<IPython.core.display.HTML object>"
      ]
     },
     "metadata": {},
     "output_type": "display_data"
    },
    {
     "data": {
      "text/html": [
       "<span style=\"color:cyan\"> |-Score: 0.19333332777023315</span>"
      ],
      "text/plain": [
       "<IPython.core.display.HTML object>"
      ]
     },
     "metadata": {},
     "output_type": "display_data"
    },
    {
     "data": {
      "text/html": [
       "<span style=\"color:cyan\"> |-Best step: 0</span>"
      ],
      "text/plain": [
       "<IPython.core.display.HTML object>"
      ]
     },
     "metadata": {},
     "output_type": "display_data"
    },
    {
     "name": "stdout",
     "output_type": "stream",
     "text": [
      "INFO:tensorflow:Oracle triggered exit\n"
     ]
    }
   ],
   "source": [
    "tuner.search(X_train,y_train,epochs=5,validation_data=(X_test,y_test))"
   ]
  },
  {
   "cell_type": "code",
   "execution_count": 81,
   "metadata": {},
   "outputs": [],
   "source": [
    "model=tuner.get_best_models(num_models=1)[0]"
   ]
  },
  {
   "cell_type": "code",
   "execution_count": 82,
   "metadata": {},
   "outputs": [
    {
     "name": "stdout",
     "output_type": "stream",
     "text": [
      "Model: \"sequential\"\n",
      "_________________________________________________________________\n",
      "Layer (type)                 Output Shape              Param #   \n",
      "=================================================================\n",
      "dense (Dense)                (None, 120)               960       \n",
      "_________________________________________________________________\n",
      "dense_1 (Dense)              (None, 240)               29040     \n",
      "_________________________________________________________________\n",
      "dense_2 (Dense)              (None, 180)               43380     \n",
      "_________________________________________________________________\n",
      "batch_normalization (BatchNo (None, 180)               720       \n",
      "_________________________________________________________________\n",
      "dense_3 (Dense)              (None, 10)                1810      \n",
      "=================================================================\n",
      "Total params: 75,910\n",
      "Trainable params: 75,550\n",
      "Non-trainable params: 360\n",
      "_________________________________________________________________\n"
     ]
    }
   ],
   "source": [
    "model.summary()"
   ]
  },
  {
   "cell_type": "code",
   "execution_count": 84,
   "metadata": {},
   "outputs": [
    {
     "name": "stdout",
     "output_type": "stream",
     "text": [
      "Train on 849 samples, validate on 150 samples\n",
      "Epoch 1/50\n",
      "849/849 [==============================] - ETA: 1s - loss: 1.4155 - accuracy: 0.37 - ETA: 0s - loss: 1.3587 - accuracy: 0.36 - ETA: 0s - loss: 1.3551 - accuracy: 0.36 - ETA: 0s - loss: 1.3170 - accuracy: 0.37 - ETA: 0s - loss: 1.3004 - accuracy: 0.41 - ETA: 0s - loss: 1.2887 - accuracy: 0.40 - ETA: 0s - loss: 1.2885 - accuracy: 0.38 - 0s 533us/sample - loss: 1.2854 - accuracy: 0.3899 - val_loss: 4.8794 - val_accuracy: 0.1467\n",
      "Epoch 2/50\n",
      "849/849 [==============================] - ETA: 0s - loss: 1.2020 - accuracy: 0.46 - ETA: 0s - loss: 1.2560 - accuracy: 0.40 - ETA: 0s - loss: 1.2697 - accuracy: 0.37 - ETA: 0s - loss: 1.2868 - accuracy: 0.37 - 0s 298us/sample - loss: 1.2975 - accuracy: 0.3675 - val_loss: 9.0336 - val_accuracy: 0.0467\n",
      "Epoch 3/50\n",
      "849/849 [==============================] - ETA: 0s - loss: 1.2325 - accuracy: 0.46 - ETA: 0s - loss: 1.2829 - accuracy: 0.43 - ETA: 0s - loss: 1.2525 - accuracy: 0.42 - ETA: 0s - loss: 1.2588 - accuracy: 0.41 - ETA: 0s - loss: 1.2519 - accuracy: 0.41 - 0s 486us/sample - loss: 1.2543 - accuracy: 0.4052 - val_loss: 6.4096 - val_accuracy: 0.0467\n",
      "Epoch 4/50\n",
      "849/849 [==============================] - ETA: 0s - loss: 1.1254 - accuracy: 0.59 - ETA: 0s - loss: 1.2417 - accuracy: 0.41 - ETA: 0s - loss: 1.2314 - accuracy: 0.40 - ETA: 0s - loss: 1.2428 - accuracy: 0.40 - ETA: 0s - loss: 1.2685 - accuracy: 0.38 - ETA: 0s - loss: 1.2667 - accuracy: 0.39 - 0s 429us/sample - loss: 1.2640 - accuracy: 0.4028 - val_loss: 14.7571 - val_accuracy: 0.0467\n",
      "Epoch 5/50\n",
      "849/849 [==============================] - ETA: 0s - loss: 1.1290 - accuracy: 0.50 - ETA: 0s - loss: 1.2872 - accuracy: 0.35 - ETA: 0s - loss: 1.2661 - accuracy: 0.34 - ETA: 0s - loss: 1.2468 - accuracy: 0.36 - ETA: 0s - loss: 1.2506 - accuracy: 0.37 - ETA: 0s - loss: 1.2482 - accuracy: 0.38 - 0s 426us/sample - loss: 1.2473 - accuracy: 0.3887 - val_loss: 7.8305 - val_accuracy: 0.1867\n",
      "Epoch 6/50\n",
      "849/849 [==============================] - ETA: 0s - loss: 1.1833 - accuracy: 0.31 - ETA: 0s - loss: 1.2218 - accuracy: 0.38 - ETA: 0s - loss: 1.2455 - accuracy: 0.41 - ETA: 0s - loss: 1.2433 - accuracy: 0.40 - 0s 262us/sample - loss: 1.2573 - accuracy: 0.3946 - val_loss: 8.7097 - val_accuracy: 0.1867\n",
      "Epoch 7/50\n",
      "849/849 [==============================] - ETA: 0s - loss: 1.1768 - accuracy: 0.46 - ETA: 0s - loss: 1.2198 - accuracy: 0.38 - ETA: 0s - loss: 1.2437 - accuracy: 0.38 - ETA: 0s - loss: 1.2460 - accuracy: 0.38 - ETA: 0s - loss: 1.2335 - accuracy: 0.39 - 0s 354us/sample - loss: 1.2540 - accuracy: 0.3958 - val_loss: 3.0842 - val_accuracy: 0.2467\n",
      "Epoch 8/50\n",
      "849/849 [==============================] - ETA: 0s - loss: 1.0934 - accuracy: 0.50 - ETA: 0s - loss: 1.1942 - accuracy: 0.44 - ETA: 0s - loss: 1.2448 - accuracy: 0.42 - ETA: 0s - loss: 1.2684 - accuracy: 0.39 - ETA: 0s - loss: 1.2711 - accuracy: 0.36 - 0s 336us/sample - loss: 1.2743 - accuracy: 0.3663 - val_loss: 6.0625 - val_accuracy: 0.0867\n",
      "Epoch 9/50\n",
      "849/849 [==============================] - ETA: 0s - loss: 1.2300 - accuracy: 0.31 - ETA: 0s - loss: 1.2265 - accuracy: 0.43 - ETA: 0s - loss: 1.2528 - accuracy: 0.40 - ETA: 0s - loss: 1.2510 - accuracy: 0.41 - 0s 340us/sample - loss: 1.2387 - accuracy: 0.4193 - val_loss: 6.1960 - val_accuracy: 0.0600\n",
      "Epoch 10/50\n",
      "849/849 [==============================] - ETA: 0s - loss: 1.1037 - accuracy: 0.53 - ETA: 0s - loss: 1.2604 - accuracy: 0.35 - ETA: 0s - loss: 1.2529 - accuracy: 0.38 - ETA: 0s - loss: 1.2509 - accuracy: 0.36 - ETA: 0s - loss: 1.2493 - accuracy: 0.36 - ETA: 0s - loss: 1.2497 - accuracy: 0.36 - 1s 624us/sample - loss: 1.2476 - accuracy: 0.3722 - val_loss: 6.8211 - val_accuracy: 0.1933\n",
      "Epoch 11/50\n",
      "849/849 [==============================] - ETA: 0s - loss: 1.1404 - accuracy: 0.50 - ETA: 0s - loss: 1.2331 - accuracy: 0.45 - ETA: 0s - loss: 1.2346 - accuracy: 0.41 - ETA: 0s - loss: 1.2157 - accuracy: 0.41 - 0s 275us/sample - loss: 1.2247 - accuracy: 0.4099 - val_loss: 17.0187 - val_accuracy: 0.0467\n",
      "Epoch 12/50\n",
      "849/849 [==============================] - ETA: 0s - loss: 1.3152 - accuracy: 0.31 - ETA: 0s - loss: 1.2559 - accuracy: 0.42 - ETA: 0s - loss: 1.2592 - accuracy: 0.40 - 0s 231us/sample - loss: 1.2311 - accuracy: 0.4111 - val_loss: 6.1243 - val_accuracy: 0.1867\n",
      "Epoch 13/50\n",
      "849/849 [==============================] - ETA: 0s - loss: 1.1704 - accuracy: 0.46 - ETA: 0s - loss: 1.2303 - accuracy: 0.41 - ETA: 0s - loss: 1.2196 - accuracy: 0.40 - 0s 233us/sample - loss: 1.2088 - accuracy: 0.4111 - val_loss: 5.5180 - val_accuracy: 0.1933\n",
      "Epoch 14/50\n",
      "849/849 [==============================] - ETA: 0s - loss: 1.3100 - accuracy: 0.31 - ETA: 0s - loss: 1.2324 - accuracy: 0.39 - ETA: 0s - loss: 1.2044 - accuracy: 0.42 - 0s 212us/sample - loss: 1.2135 - accuracy: 0.4111 - val_loss: 8.1770 - val_accuracy: 0.0467\n",
      "Epoch 15/50\n",
      "849/849 [==============================] - ETA: 0s - loss: 1.1315 - accuracy: 0.50 - ETA: 0s - loss: 1.1747 - accuracy: 0.42 - ETA: 0s - loss: 1.2068 - accuracy: 0.41 - 0s 201us/sample - loss: 1.2000 - accuracy: 0.4099 - val_loss: 2.0092 - val_accuracy: 0.2800\n",
      "Epoch 16/50\n",
      "849/849 [==============================] - ETA: 0s - loss: 1.1074 - accuracy: 0.40 - ETA: 0s - loss: 1.1968 - accuracy: 0.45 - ETA: 0s - loss: 1.2007 - accuracy: 0.43 - 0s 238us/sample - loss: 1.1979 - accuracy: 0.4323 - val_loss: 1.3599 - val_accuracy: 0.3333\n",
      "Epoch 17/50\n",
      "849/849 [==============================] - ETA: 0s - loss: 0.9358 - accuracy: 0.65 - ETA: 0s - loss: 1.1802 - accuracy: 0.42 - ETA: 0s - loss: 1.1951 - accuracy: 0.40 - 0s 234us/sample - loss: 1.2003 - accuracy: 0.3875 - val_loss: 1.4486 - val_accuracy: 0.1800\n",
      "Epoch 18/50\n",
      "849/849 [==============================] - ETA: 0s - loss: 1.2126 - accuracy: 0.46 - ETA: 0s - loss: 1.2044 - accuracy: 0.40 - ETA: 0s - loss: 1.1983 - accuracy: 0.39 - 0s 232us/sample - loss: 1.2208 - accuracy: 0.3840 - val_loss: 1.6529 - val_accuracy: 0.3200\n",
      "Epoch 19/50\n",
      "849/849 [==============================] - ETA: 0s - loss: 1.2209 - accuracy: 0.50 - ETA: 0s - loss: 1.1633 - accuracy: 0.45 - ETA: 0s - loss: 1.1684 - accuracy: 0.44 - 0s 225us/sample - loss: 1.1894 - accuracy: 0.4252 - val_loss: 4.5411 - val_accuracy: 0.1400\n",
      "Epoch 20/50\n",
      "849/849 [==============================] - ETA: 0s - loss: 1.1754 - accuracy: 0.46 - ETA: 0s - loss: 1.1516 - accuracy: 0.46 - ETA: 0s - loss: 1.1756 - accuracy: 0.43 - ETA: 0s - loss: 1.1723 - accuracy: 0.43 - ETA: 0s - loss: 1.1906 - accuracy: 0.42 - 0s 356us/sample - loss: 1.1909 - accuracy: 0.4240 - val_loss: 3.6782 - val_accuracy: 0.2400\n",
      "Epoch 21/50\n",
      "849/849 [==============================] - ETA: 0s - loss: 1.1539 - accuracy: 0.40 - ETA: 0s - loss: 1.1709 - accuracy: 0.45 - ETA: 0s - loss: 1.1795 - accuracy: 0.42 - ETA: 0s - loss: 1.1970 - accuracy: 0.40 - ETA: 0s - loss: 1.1874 - accuracy: 0.40 - ETA: 0s - loss: 1.1873 - accuracy: 0.41 - 0s 409us/sample - loss: 1.1918 - accuracy: 0.4064 - val_loss: 1.3006 - val_accuracy: 0.4867\n",
      "Epoch 22/50\n",
      "849/849 [==============================] - ETA: 0s - loss: 1.1374 - accuracy: 0.50 - ETA: 0s - loss: 1.2044 - accuracy: 0.44 - ETA: 0s - loss: 1.1853 - accuracy: 0.42 - 0s 272us/sample - loss: 1.1833 - accuracy: 0.4075 - val_loss: 5.5496 - val_accuracy: 0.1933\n",
      "Epoch 23/50\n",
      "849/849 [==============================] - ETA: 0s - loss: 1.2445 - accuracy: 0.31 - ETA: 0s - loss: 1.2052 - accuracy: 0.41 - ETA: 0s - loss: 1.2279 - accuracy: 0.39 - ETA: 0s - loss: 1.2274 - accuracy: 0.40 - 0s 261us/sample - loss: 1.2202 - accuracy: 0.4064 - val_loss: 1.9984 - val_accuracy: 0.3733\n",
      "Epoch 24/50\n",
      "849/849 [==============================] - ETA: 0s - loss: 1.1451 - accuracy: 0.43 - ETA: 0s - loss: 1.1909 - accuracy: 0.41 - ETA: 0s - loss: 1.1919 - accuracy: 0.41 - ETA: 0s - loss: 1.1916 - accuracy: 0.41 - 0s 547us/sample - loss: 1.1806 - accuracy: 0.4252 - val_loss: 1.5363 - val_accuracy: 0.3933\n",
      "Epoch 25/50\n",
      "849/849 [==============================] - ETA: 0s - loss: 1.1744 - accuracy: 0.50 - ETA: 0s - loss: 1.1558 - accuracy: 0.44 - ETA: 0s - loss: 1.1825 - accuracy: 0.40 - 0s 231us/sample - loss: 1.1920 - accuracy: 0.4122 - val_loss: 1.4296 - val_accuracy: 0.3867\n",
      "Epoch 26/50\n"
     ]
    },
    {
     "name": "stdout",
     "output_type": "stream",
     "text": [
      "849/849 [==============================] - ETA: 0s - loss: 1.0754 - accuracy: 0.59 - ETA: 0s - loss: 1.1681 - accuracy: 0.42 - ETA: 0s - loss: 1.1826 - accuracy: 0.39 - 0s 221us/sample - loss: 1.1795 - accuracy: 0.3981 - val_loss: 1.2206 - val_accuracy: 0.4667\n",
      "Epoch 27/50\n",
      "849/849 [==============================] - ETA: 0s - loss: 1.1976 - accuracy: 0.40 - ETA: 0s - loss: 1.1617 - accuracy: 0.43 - ETA: 0s - loss: 1.1915 - accuracy: 0.41 - 0s 174us/sample - loss: 1.1952 - accuracy: 0.4099 - val_loss: 1.9209 - val_accuracy: 0.2600\n",
      "Epoch 28/50\n",
      "849/849 [==============================] - ETA: 0s - loss: 1.2108 - accuracy: 0.43 - ETA: 0s - loss: 1.1919 - accuracy: 0.44 - ETA: 0s - loss: 1.2352 - accuracy: 0.41 - ETA: 0s - loss: 1.2032 - accuracy: 0.41 - 0s 302us/sample - loss: 1.1929 - accuracy: 0.4217 - val_loss: 1.2775 - val_accuracy: 0.4133\n",
      "Epoch 29/50\n",
      "849/849 [==============================] - ETA: 0s - loss: 1.1785 - accuracy: 0.40 - ETA: 0s - loss: 1.1641 - accuracy: 0.42 - ETA: 0s - loss: 1.1745 - accuracy: 0.41 - 0s 224us/sample - loss: 1.1839 - accuracy: 0.4134 - val_loss: 1.1668 - val_accuracy: 0.5667\n",
      "Epoch 30/50\n",
      "849/849 [==============================] - ETA: 0s - loss: 1.0455 - accuracy: 0.59 - ETA: 0s - loss: 1.1780 - accuracy: 0.42 - ETA: 0s - loss: 1.1616 - accuracy: 0.41 - 0s 247us/sample - loss: 1.1825 - accuracy: 0.4193 - val_loss: 1.1708 - val_accuracy: 0.5600\n",
      "Epoch 31/50\n",
      "849/849 [==============================] - ETA: 0s - loss: 1.1638 - accuracy: 0.43 - ETA: 0s - loss: 1.2058 - accuracy: 0.38 - ETA: 0s - loss: 1.1911 - accuracy: 0.42 - ETA: 0s - loss: 1.2133 - accuracy: 0.40 - 0s 260us/sample - loss: 1.2100 - accuracy: 0.4064 - val_loss: 3.5218 - val_accuracy: 0.2000\n",
      "Epoch 32/50\n",
      "849/849 [==============================] - ETA: 0s - loss: 1.2309 - accuracy: 0.34 - ETA: 0s - loss: 1.2035 - accuracy: 0.32 - ETA: 0s - loss: 1.1662 - accuracy: 0.39 - ETA: 0s - loss: 1.1973 - accuracy: 0.37 - 0s 242us/sample - loss: 1.1978 - accuracy: 0.3793 - val_loss: 1.1626 - val_accuracy: 0.5400\n",
      "Epoch 33/50\n",
      "849/849 [==============================] - ETA: 0s - loss: 1.1304 - accuracy: 0.46 - ETA: 0s - loss: 1.1795 - accuracy: 0.41 - ETA: 0s - loss: 1.1819 - accuracy: 0.40 - ETA: 0s - loss: 1.1816 - accuracy: 0.40 - 0s 266us/sample - loss: 1.1775 - accuracy: 0.4134 - val_loss: 1.0950 - val_accuracy: 0.5733\n",
      "Epoch 34/50\n",
      "849/849 [==============================] - ETA: 0s - loss: 1.1623 - accuracy: 0.37 - ETA: 0s - loss: 1.2032 - accuracy: 0.42 - ETA: 0s - loss: 1.1601 - accuracy: 0.45 - 0s 231us/sample - loss: 1.1707 - accuracy: 0.4276 - val_loss: 1.1504 - val_accuracy: 0.4667\n",
      "Epoch 35/50\n",
      "849/849 [==============================] - ETA: 0s - loss: 1.1169 - accuracy: 0.37 - ETA: 0s - loss: 1.2279 - accuracy: 0.33 - ETA: 0s - loss: 1.2167 - accuracy: 0.34 - ETA: 0s - loss: 1.1994 - accuracy: 0.36 - 0s 284us/sample - loss: 1.1815 - accuracy: 0.3828 - val_loss: 1.0972 - val_accuracy: 0.5267\n",
      "Epoch 36/50\n",
      "849/849 [==============================] - ETA: 0s - loss: 1.1893 - accuracy: 0.37 - ETA: 0s - loss: 1.1567 - accuracy: 0.42 - ETA: 0s - loss: 1.1800 - accuracy: 0.40 - ETA: 0s - loss: 1.1616 - accuracy: 0.42 - 0s 262us/sample - loss: 1.1699 - accuracy: 0.4252 - val_loss: 1.1295 - val_accuracy: 0.5333\n",
      "Epoch 37/50\n",
      "849/849 [==============================] - ETA: 0s - loss: 1.1857 - accuracy: 0.40 - ETA: 0s - loss: 1.1679 - accuracy: 0.46 - ETA: 0s - loss: 1.1658 - accuracy: 0.43 - 0s 219us/sample - loss: 1.1739 - accuracy: 0.4240 - val_loss: 1.2678 - val_accuracy: 0.3400\n",
      "Epoch 38/50\n",
      "849/849 [==============================] - ETA: 0s - loss: 1.2770 - accuracy: 0.34 - ETA: 0s - loss: 1.1517 - accuracy: 0.45 - ETA: 0s - loss: 1.1714 - accuracy: 0.44 - ETA: 0s - loss: 1.1711 - accuracy: 0.43 - 0s 260us/sample - loss: 1.1688 - accuracy: 0.4382 - val_loss: 1.6489 - val_accuracy: 0.4533\n",
      "Epoch 39/50\n",
      "849/849 [==============================] - ETA: 0s - loss: 1.1639 - accuracy: 0.28 - ETA: 0s - loss: 1.1984 - accuracy: 0.38 - ETA: 0s - loss: 1.1645 - accuracy: 0.42 - ETA: 0s - loss: 1.1746 - accuracy: 0.41 - 0s 270us/sample - loss: 1.1741 - accuracy: 0.4217 - val_loss: 1.1694 - val_accuracy: 0.4200\n",
      "Epoch 40/50\n",
      "849/849 [==============================] - ETA: 0s - loss: 1.2722 - accuracy: 0.34 - ETA: 0s - loss: 1.1826 - accuracy: 0.39 - ETA: 0s - loss: 1.1818 - accuracy: 0.42 - ETA: 0s - loss: 1.1709 - accuracy: 0.43 - ETA: 0s - loss: 1.1748 - accuracy: 0.43 - 0s 303us/sample - loss: 1.1754 - accuracy: 0.4335 - val_loss: 1.1067 - val_accuracy: 0.5667\n",
      "Epoch 41/50\n",
      "849/849 [==============================] - ETA: 0s - loss: 1.2158 - accuracy: 0.37 - ETA: 0s - loss: 1.1783 - accuracy: 0.43 - ETA: 0s - loss: 1.1736 - accuracy: 0.44 - 0s 214us/sample - loss: 1.1743 - accuracy: 0.4382 - val_loss: 1.1256 - val_accuracy: 0.5400\n",
      "Epoch 42/50\n",
      "849/849 [==============================] - ETA: 0s - loss: 1.2014 - accuracy: 0.37 - ETA: 0s - loss: 1.1568 - accuracy: 0.45 - ETA: 0s - loss: 1.1725 - accuracy: 0.44 - ETA: 0s - loss: 1.1702 - accuracy: 0.42 - 0s 255us/sample - loss: 1.1721 - accuracy: 0.4217 - val_loss: 1.2416 - val_accuracy: 0.3800\n",
      "Epoch 43/50\n",
      "849/849 [==============================] - ETA: 0s - loss: 1.2195 - accuracy: 0.34 - ETA: 0s - loss: 1.2030 - accuracy: 0.44 - ETA: 0s - loss: 1.1887 - accuracy: 0.43 - ETA: 0s - loss: 1.1854 - accuracy: 0.43 - 0s 267us/sample - loss: 1.1891 - accuracy: 0.4229 - val_loss: 13.8109 - val_accuracy: 0.0800\n",
      "Epoch 44/50\n",
      "849/849 [==============================] - ETA: 0s - loss: 1.1228 - accuracy: 0.50 - ETA: 0s - loss: 1.2245 - accuracy: 0.37 - ETA: 0s - loss: 1.1988 - accuracy: 0.40 - ETA: 0s - loss: 1.1936 - accuracy: 0.43 - ETA: 0s - loss: 1.2332 - accuracy: 0.39 - ETA: 0s - loss: 1.2155 - accuracy: 0.40 - ETA: 0s - loss: 1.2208 - accuracy: 0.40 - 0s 513us/sample - loss: 1.2131 - accuracy: 0.4217 - val_loss: 4.1119 - val_accuracy: 0.1933\n",
      "Epoch 45/50\n",
      "849/849 [==============================] - ETA: 0s - loss: 1.1014 - accuracy: 0.50 - ETA: 0s - loss: 1.1871 - accuracy: 0.40 - ETA: 0s - loss: 1.1821 - accuracy: 0.41 - ETA: 0s - loss: 1.1890 - accuracy: 0.41 - 0s 272us/sample - loss: 1.1858 - accuracy: 0.4111 - val_loss: 1.4625 - val_accuracy: 0.3867\n",
      "Epoch 46/50\n",
      "849/849 [==============================] - ETA: 0s - loss: 1.2411 - accuracy: 0.37 - ETA: 0s - loss: 1.1780 - accuracy: 0.43 - ETA: 0s - loss: 1.1836 - accuracy: 0.42 - 0s 205us/sample - loss: 1.1702 - accuracy: 0.4264 - val_loss: 1.1308 - val_accuracy: 0.5333\n",
      "Epoch 47/50\n",
      "849/849 [==============================] - ETA: 0s - loss: 1.0563 - accuracy: 0.46 - ETA: 0s - loss: 1.1595 - accuracy: 0.42 - ETA: 0s - loss: 1.1768 - accuracy: 0.42 - 0s 206us/sample - loss: 1.1836 - accuracy: 0.4287 - val_loss: 1.1568 - val_accuracy: 0.5400\n",
      "Epoch 48/50\n",
      "849/849 [==============================] - ETA: 0s - loss: 1.1056 - accuracy: 0.43 - ETA: 0s - loss: 1.1245 - accuracy: 0.46 - ETA: 0s - loss: 1.1684 - accuracy: 0.43 - 0s 225us/sample - loss: 1.1742 - accuracy: 0.4311 - val_loss: 1.2357 - val_accuracy: 0.5333\n",
      "Epoch 49/50\n",
      "849/849 [==============================] - ETA: 0s - loss: 1.2702 - accuracy: 0.31 - ETA: 0s - loss: 1.1856 - accuracy: 0.40 - ETA: 0s - loss: 1.1846 - accuracy: 0.40 - 0s 212us/sample - loss: 1.1693 - accuracy: 0.4240 - val_loss: 2.4287 - val_accuracy: 0.2600\n",
      "Epoch 50/50\n",
      "849/849 [==============================] - ETA: 0s - loss: 1.0116 - accuracy: 0.53 - ETA: 0s - loss: 1.2134 - accuracy: 0.41 - ETA: 0s - loss: 1.1824 - accuracy: 0.43 - 0s 212us/sample - loss: 1.1725 - accuracy: 0.4405 - val_loss: 1.2730 - val_accuracy: 0.4000\n"
     ]
    },
    {
     "data": {
      "text/plain": [
       "<tensorflow.python.keras.callbacks.History at 0x1febf5e2898>"
      ]
     },
     "execution_count": 84,
     "metadata": {},
     "output_type": "execute_result"
    }
   ],
   "source": [
    "model.fit(X_train,y_train,epochs=50,validation_data=(X_test,y_test))"
   ]
  },
  {
   "cell_type": "code",
   "execution_count": 91,
   "metadata": {},
   "outputs": [
    {
     "name": "stdout",
     "output_type": "stream",
     "text": [
      "849/849 [==============================] - ETA: 0s - loss: 1.3889 - accuracy: 0.40 - ETA: 0s - loss: 1.3105 - accuracy: 0.38 - 0s 91us/sample - loss: 1.3028 - accuracy: 0.3734\n"
     ]
    },
    {
     "data": {
      "text/plain": [
       "[1.3028306167735086, 0.37338045]"
      ]
     },
     "execution_count": 91,
     "metadata": {},
     "output_type": "execute_result"
    }
   ],
   "source": [
    "model.evaluate(X_train,y_train)"
   ]
  },
  {
   "cell_type": "code",
   "execution_count": 92,
   "metadata": {},
   "outputs": [],
   "source": [
    "model.save('crop recommendation model 2.h5')"
   ]
  },
  {
   "cell_type": "code",
   "execution_count": 114,
   "metadata": {},
   "outputs": [],
   "source": [
    "a=np.array([\n",
    "7.03,\n",
    "118.72,\n",
    "25.00,\n",
    "185.82,\n",
    "0.78,\n",
    "0.001686,\n",
    "1.40])"
   ]
  },
  {
   "cell_type": "code",
   "execution_count": 125,
   "metadata": {},
   "outputs": [],
   "source": [
    "a=a.reshape(1,7)"
   ]
  },
  {
   "cell_type": "code",
   "execution_count": 128,
   "metadata": {},
   "outputs": [
    {
     "data": {
      "text/plain": [
       "'carrot'"
      ]
     },
     "execution_count": 128,
     "metadata": {},
     "output_type": "execute_result"
    }
   ],
   "source": [
    "labels[np.argmax(model.predict(a),axis=1)][0]"
   ]
  },
  {
   "cell_type": "code",
   "execution_count": 151,
   "metadata": {},
   "outputs": [
    {
     "data": {
      "text/plain": [
       "array(['rice'], dtype=object)"
      ]
     },
     "execution_count": 151,
     "metadata": {},
     "output_type": "execute_result"
    }
   ],
   "source": [
    "kd.best_estimator_.predict(a)"
   ]
  },
  {
   "cell_type": "code",
   "execution_count": null,
   "metadata": {},
   "outputs": [],
   "source": []
  }
 ],
 "metadata": {
  "kernelspec": {
   "display_name": "Python 3",
   "language": "python",
   "name": "python3"
  },
  "language_info": {
   "codemirror_mode": {
    "name": "ipython",
    "version": 3
   },
   "file_extension": ".py",
   "mimetype": "text/x-python",
   "name": "python",
   "nbconvert_exporter": "python",
   "pygments_lexer": "ipython3",
   "version": "3.7.1"
  }
 },
 "nbformat": 4,
 "nbformat_minor": 2
}
