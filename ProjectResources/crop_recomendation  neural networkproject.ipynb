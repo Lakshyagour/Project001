{
 "cells": [
  {
   "cell_type": "code",
   "execution_count": 1,
   "metadata": {},
   "outputs": [],
   "source": [
    "import numpy as np\n",
    "import pandas as pd\n",
    "import matplotlib.pyplot as plt\n",
    "import seaborn as sns\n",
    "import pickle"
   ]
  },
  {
   "cell_type": "code",
   "execution_count": 2,
   "metadata": {},
   "outputs": [],
   "source": [
    "data=pd.read_csv('cropdata/cpdata.csv')"
   ]
  },
  {
   "cell_type": "code",
   "execution_count": 3,
   "metadata": {},
   "outputs": [
    {
     "data": {
      "text/html": [
       "<div>\n",
       "<style scoped>\n",
       "    .dataframe tbody tr th:only-of-type {\n",
       "        vertical-align: middle;\n",
       "    }\n",
       "\n",
       "    .dataframe tbody tr th {\n",
       "        vertical-align: top;\n",
       "    }\n",
       "\n",
       "    .dataframe thead th {\n",
       "        text-align: right;\n",
       "    }\n",
       "</style>\n",
       "<table border=\"1\" class=\"dataframe\">\n",
       "  <thead>\n",
       "    <tr style=\"text-align: right;\">\n",
       "      <th></th>\n",
       "      <th>temperature</th>\n",
       "      <th>humidity</th>\n",
       "      <th>ph</th>\n",
       "      <th>rainfall</th>\n",
       "      <th>label</th>\n",
       "    </tr>\n",
       "  </thead>\n",
       "  <tbody>\n",
       "    <tr>\n",
       "      <th>0</th>\n",
       "      <td>20.879744</td>\n",
       "      <td>82.002744</td>\n",
       "      <td>6.502985</td>\n",
       "      <td>202.935536</td>\n",
       "      <td>rice</td>\n",
       "    </tr>\n",
       "    <tr>\n",
       "      <th>1</th>\n",
       "      <td>21.770462</td>\n",
       "      <td>80.319644</td>\n",
       "      <td>7.038096</td>\n",
       "      <td>226.655537</td>\n",
       "      <td>rice</td>\n",
       "    </tr>\n",
       "    <tr>\n",
       "      <th>2</th>\n",
       "      <td>23.004459</td>\n",
       "      <td>82.320763</td>\n",
       "      <td>7.840207</td>\n",
       "      <td>263.964248</td>\n",
       "      <td>rice</td>\n",
       "    </tr>\n",
       "    <tr>\n",
       "      <th>3</th>\n",
       "      <td>26.491096</td>\n",
       "      <td>80.158363</td>\n",
       "      <td>6.980401</td>\n",
       "      <td>242.864034</td>\n",
       "      <td>rice</td>\n",
       "    </tr>\n",
       "    <tr>\n",
       "      <th>4</th>\n",
       "      <td>20.130175</td>\n",
       "      <td>81.604873</td>\n",
       "      <td>7.628473</td>\n",
       "      <td>262.717340</td>\n",
       "      <td>rice</td>\n",
       "    </tr>\n",
       "  </tbody>\n",
       "</table>\n",
       "</div>"
      ],
      "text/plain": [
       "   temperature   humidity        ph    rainfall label\n",
       "0    20.879744  82.002744  6.502985  202.935536  rice\n",
       "1    21.770462  80.319644  7.038096  226.655537  rice\n",
       "2    23.004459  82.320763  7.840207  263.964248  rice\n",
       "3    26.491096  80.158363  6.980401  242.864034  rice\n",
       "4    20.130175  81.604873  7.628473  262.717340  rice"
      ]
     },
     "execution_count": 3,
     "metadata": {},
     "output_type": "execute_result"
    }
   ],
   "source": [
    "data.head()"
   ]
  },
  {
   "cell_type": "code",
   "execution_count": 4,
   "metadata": {},
   "outputs": [
    {
     "data": {
      "text/plain": [
       "<matplotlib.axes._subplots.AxesSubplot at 0x2340cd78630>"
      ]
     },
     "execution_count": 4,
     "metadata": {},
     "output_type": "execute_result"
    },
    {
     "data": {
      "image/png": "[encoded data removed]",
      "text/plain": [
       "<Figure size 432x288 with 1 Axes>"
      ]
     },
     "metadata": {
      "needs_background": "light"
     },
     "output_type": "display_data"
    }
   ],
   "source": [
    "sns.countplot(data['label'])"
   ]
  },
  {
   "cell_type": "code",
   "execution_count": 5,
   "metadata": {},
   "outputs": [
    {
     "data": {
      "text/plain": [
       "array(['rice', 'wheat', 'Mung Bean', 'Tea', 'millet', 'maize', 'Lentil',\n",
       "       'Jute', 'Coffee', 'Cotton', 'Ground Nut', 'Peas', 'Rubber',\n",
       "       'Sugarcane', 'Tobacco', 'Kidney Beans', 'Moth Beans', 'Coconut',\n",
       "       'Black gram', 'Adzuki Beans', 'Pigeon Peas', 'Chickpea', 'banana',\n",
       "       'grapes', 'apple', 'mango', 'muskmelon', 'orange', 'papaya',\n",
       "       'pomegranate', 'watermelon'], dtype=object)"
      ]
     },
     "execution_count": 5,
     "metadata": {},
     "output_type": "execute_result"
    }
   ],
   "source": [
    "data['label'].unique()"
   ]
  },
  {
   "cell_type": "code",
   "execution_count": 6,
   "metadata": {},
   "outputs": [],
   "source": [
    "dict_soil_type={'rice':'clay', 'wheat':'loamy', 'Mung Bean':'loamy', 'Tea':'sandy', 'millet':'alluvial', 'maize':'loamy', 'Lentil':'loamy',\n",
    "       'Jute':'alluvial', 'Coffee':'volcanic', 'Cotton':'loamy', 'Ground Nut':'loamy', 'Peas':'loamy', 'Rubber':'loamy',\n",
    "       'Sugarcane':'clay', 'Tobacco':'alluvial', 'Kidney Beans':'clay', 'Moth Beans':'sandy', 'Coconut':'sandy',\n",
    "       'Black gram':'loamy', 'Adzuki Beans':'sandy', 'Pigeon Peas':'loamy', 'Chickpea':'loamy', 'banana':'loamy',\n",
    "       'grapes':'sandy', 'apple':'loamy', 'mango':'alluvial', 'muskmelon':'sandy', 'orange':'loamy', 'papaya':'alluvial',\n",
    "       'pomegranate':'alluvial', 'watermelon':'sandy'}"
   ]
  },
  {
   "cell_type": "code",
   "execution_count": 7,
   "metadata": {},
   "outputs": [
    {
     "data": {
      "text/html": [
       "<div>\n",
       "<style scoped>\n",
       "    .dataframe tbody tr th:only-of-type {\n",
       "        vertical-align: middle;\n",
       "    }\n",
       "\n",
       "    .dataframe tbody tr th {\n",
       "        vertical-align: top;\n",
       "    }\n",
       "\n",
       "    .dataframe thead th {\n",
       "        text-align: right;\n",
       "    }\n",
       "</style>\n",
       "<table border=\"1\" class=\"dataframe\">\n",
       "  <thead>\n",
       "    <tr style=\"text-align: right;\">\n",
       "      <th></th>\n",
       "      <th>temperature</th>\n",
       "      <th>humidity</th>\n",
       "      <th>ph</th>\n",
       "      <th>rainfall</th>\n",
       "      <th>label</th>\n",
       "    </tr>\n",
       "  </thead>\n",
       "  <tbody>\n",
       "    <tr>\n",
       "      <th>0</th>\n",
       "      <td>20.879744</td>\n",
       "      <td>82.002744</td>\n",
       "      <td>6.502985</td>\n",
       "      <td>202.935536</td>\n",
       "      <td>rice</td>\n",
       "    </tr>\n",
       "    <tr>\n",
       "      <th>1</th>\n",
       "      <td>21.770462</td>\n",
       "      <td>80.319644</td>\n",
       "      <td>7.038096</td>\n",
       "      <td>226.655537</td>\n",
       "      <td>rice</td>\n",
       "    </tr>\n",
       "    <tr>\n",
       "      <th>2</th>\n",
       "      <td>23.004459</td>\n",
       "      <td>82.320763</td>\n",
       "      <td>7.840207</td>\n",
       "      <td>263.964248</td>\n",
       "      <td>rice</td>\n",
       "    </tr>\n",
       "    <tr>\n",
       "      <th>3</th>\n",
       "      <td>26.491096</td>\n",
       "      <td>80.158363</td>\n",
       "      <td>6.980401</td>\n",
       "      <td>242.864034</td>\n",
       "      <td>rice</td>\n",
       "    </tr>\n",
       "    <tr>\n",
       "      <th>4</th>\n",
       "      <td>20.130175</td>\n",
       "      <td>81.604873</td>\n",
       "      <td>7.628473</td>\n",
       "      <td>262.717340</td>\n",
       "      <td>rice</td>\n",
       "    </tr>\n",
       "  </tbody>\n",
       "</table>\n",
       "</div>"
      ],
      "text/plain": [
       "   temperature   humidity        ph    rainfall label\n",
       "0    20.879744  82.002744  6.502985  202.935536  rice\n",
       "1    21.770462  80.319644  7.038096  226.655537  rice\n",
       "2    23.004459  82.320763  7.840207  263.964248  rice\n",
       "3    26.491096  80.158363  6.980401  242.864034  rice\n",
       "4    20.130175  81.604873  7.628473  262.717340  rice"
      ]
     },
     "execution_count": 7,
     "metadata": {},
     "output_type": "execute_result"
    }
   ],
   "source": [
    "data.head()"
   ]
  },
  {
   "cell_type": "code",
   "execution_count": 8,
   "metadata": {},
   "outputs": [
    {
     "data": {
      "text/plain": [
       "dtype('O')"
      ]
     },
     "execution_count": 8,
     "metadata": {},
     "output_type": "execute_result"
    }
   ],
   "source": [
    "data['label'].dtype"
   ]
  },
  {
   "cell_type": "code",
   "execution_count": 9,
   "metadata": {},
   "outputs": [
    {
     "data": {
      "text/plain": [
       "31"
      ]
     },
     "execution_count": 9,
     "metadata": {},
     "output_type": "execute_result"
    }
   ],
   "source": [
    "len(data['label'].unique())"
   ]
  },
  {
   "cell_type": "code",
   "execution_count": 13,
   "metadata": {},
   "outputs": [],
   "source": [
    "from keras.models import Sequential\n",
    "from keras.layers import Dense,BatchNormalization"
   ]
  },
  {
   "cell_type": "code",
   "execution_count": 14,
   "metadata": {},
   "outputs": [],
   "source": [
    "data1=data.drop('label',axis=1)"
   ]
  },
  {
   "cell_type": "code",
   "execution_count": 15,
   "metadata": {},
   "outputs": [],
   "source": [
    "data2=pd.get_dummies(data1)"
   ]
  },
  {
   "cell_type": "code",
   "execution_count": 16,
   "metadata": {},
   "outputs": [],
   "source": [
    "labels=pd.get_dummies(data['label'])"
   ]
  },
  {
   "cell_type": "code",
   "execution_count": 17,
   "metadata": {},
   "outputs": [
    {
     "data": {
      "text/plain": [
       "(3100, 31)"
      ]
     },
     "execution_count": 17,
     "metadata": {},
     "output_type": "execute_result"
    }
   ],
   "source": [
    "labels.shape"
   ]
  },
  {
   "cell_type": "code",
   "execution_count": 18,
   "metadata": {},
   "outputs": [],
   "source": [
    "from sklearn.model_selection import train_test_split\n",
    "from sklearn.neighbors import KNeighborsClassifier\n",
    "from sklearn.ensemble import RandomForestClassifier\n",
    "from sklearn.model_selection import GridSearchCV"
   ]
  },
  {
   "cell_type": "code",
   "execution_count": 19,
   "metadata": {},
   "outputs": [],
   "source": [
    "X_train,X_test,y_train,y_test=train_test_split(data2,labels)"
   ]
  },
  {
   "cell_type": "code",
   "execution_count": 20,
   "metadata": {},
   "outputs": [
    {
     "data": {
      "text/plain": [
       "(2325, 4)"
      ]
     },
     "execution_count": 20,
     "metadata": {},
     "output_type": "execute_result"
    }
   ],
   "source": [
    "X_train.shape"
   ]
  },
  {
   "cell_type": "code",
   "execution_count": 21,
   "metadata": {},
   "outputs": [
    {
     "name": "stdout",
     "output_type": "stream",
     "text": [
      "WARNING:tensorflow:From C:\\Users\\ajay\\Anaconda3\\lib\\site-packages\\tensorflow\\python\\framework\\op_def_library.py:263: colocate_with (from tensorflow.python.framework.ops) is deprecated and will be removed in a future version.\n",
      "Instructions for updating:\n",
      "Colocations handled automatically by placer.\n"
     ]
    }
   ],
   "source": [
    "model=Sequential()\n",
    "model.add(Dense(100,input_dim=4,activation='relu'))\n",
    "model.add(Dense(50,activation='relu'))\n",
    "model.add(BatchNormalization())\n",
    "model.add(Dense(31,activation='softmax'))\n",
    "model.compile(loss='categorical_crossentropy',optimizer='adam',metrics=['accuracy'])"
   ]
  },
  {
   "cell_type": "code",
   "execution_count": 22,
   "metadata": {},
   "outputs": [
    {
     "name": "stdout",
     "output_type": "stream",
     "text": [
      "WARNING:tensorflow:From C:\\Users\\ajay\\Anaconda3\\lib\\site-packages\\tensorflow\\python\\ops\\math_ops.py:3066: to_int32 (from tensorflow.python.ops.math_ops) is deprecated and will be removed in a future version.\n",
      "Instructions for updating:\n",
      "Use tf.cast instead.\n",
      "Train on 2325 samples, validate on 775 samples\n",
      "Epoch 1/50\n",
      "2325/2325 [==============================] - 5s 2ms/step - loss: 2.8457 - acc: 0.2477 - val_loss: 2.5943 - val_acc: 0.2090\n",
      "Epoch 2/50\n",
      "2325/2325 [==============================] - 0s 211us/step - loss: 2.0995 - acc: 0.4237 - val_loss: 2.2156 - val_acc: 0.2981\n",
      "Epoch 3/50\n",
      "2325/2325 [==============================] - 1s 218us/step - loss: 1.7297 - acc: 0.4955 - val_loss: 1.9278 - val_acc: 0.4258\n",
      "Epoch 4/50\n",
      "2325/2325 [==============================] - 0s 198us/step - loss: 1.5252 - acc: 0.5406 - val_loss: 1.6892 - val_acc: 0.4465\n",
      "Epoch 5/50\n",
      "2325/2325 [==============================] - 0s 199us/step - loss: 1.3805 - acc: 0.5940 - val_loss: 1.5825 - val_acc: 0.4594\n",
      "Epoch 6/50\n",
      "2325/2325 [==============================] - 0s 212us/step - loss: 1.2691 - acc: 0.6060 - val_loss: 1.3218 - val_acc: 0.6065\n",
      "Epoch 7/50\n",
      "2325/2325 [==============================] - 0s 204us/step - loss: 1.1799 - acc: 0.6370 - val_loss: 1.2440 - val_acc: 0.5819\n",
      "Epoch 8/50\n",
      "2325/2325 [==============================] - 0s 206us/step - loss: 1.1268 - acc: 0.6387 - val_loss: 1.3088 - val_acc: 0.5458\n",
      "Epoch 9/50\n",
      "2325/2325 [==============================] - 0s 205us/step - loss: 1.0718 - acc: 0.6538 - val_loss: 1.2067 - val_acc: 0.5484\n",
      "Epoch 10/50\n",
      "2325/2325 [==============================] - 0s 196us/step - loss: 1.0329 - acc: 0.6684 - val_loss: 1.1782 - val_acc: 0.5432\n",
      "Epoch 11/50\n",
      "2325/2325 [==============================] - 1s 216us/step - loss: 1.0115 - acc: 0.6680 - val_loss: 1.1016 - val_acc: 0.5987\n",
      "Epoch 12/50\n",
      "2325/2325 [==============================] - 0s 200us/step - loss: 0.9708 - acc: 0.6662 - val_loss: 1.1677 - val_acc: 0.5690\n",
      "Epoch 13/50\n",
      "2325/2325 [==============================] - 0s 208us/step - loss: 0.9528 - acc: 0.6731 - val_loss: 1.2367 - val_acc: 0.5329\n",
      "Epoch 14/50\n",
      "2325/2325 [==============================] - 0s 214us/step - loss: 0.9017 - acc: 0.6938 - val_loss: 1.1152 - val_acc: 0.5832\n",
      "Epoch 15/50\n",
      "2325/2325 [==============================] - 0s 207us/step - loss: 0.8600 - acc: 0.7019 - val_loss: 1.0042 - val_acc: 0.6181\n",
      "Epoch 16/50\n",
      "2325/2325 [==============================] - 0s 200us/step - loss: 0.8618 - acc: 0.6899 - val_loss: 0.8833 - val_acc: 0.6735\n",
      "Epoch 17/50\n",
      "2325/2325 [==============================] - 0s 203us/step - loss: 0.8471 - acc: 0.7058 - val_loss: 0.8805 - val_acc: 0.6826\n",
      "Epoch 18/50\n",
      "2325/2325 [==============================] - 0s 201us/step - loss: 0.8140 - acc: 0.7230 - val_loss: 1.2288 - val_acc: 0.5974\n",
      "Epoch 19/50\n",
      "2325/2325 [==============================] - 1s 216us/step - loss: 0.7943 - acc: 0.7256 - val_loss: 1.0332 - val_acc: 0.5884\n",
      "Epoch 20/50\n",
      "2325/2325 [==============================] - 0s 208us/step - loss: 0.8294 - acc: 0.7097 - val_loss: 1.2986 - val_acc: 0.5213\n",
      "Epoch 21/50\n",
      "2325/2325 [==============================] - 0s 214us/step - loss: 0.8231 - acc: 0.7062 - val_loss: 1.0285 - val_acc: 0.6116\n",
      "Epoch 22/50\n",
      "2325/2325 [==============================] - 0s 208us/step - loss: 0.7564 - acc: 0.7368 - val_loss: 0.8044 - val_acc: 0.7032\n",
      "Epoch 23/50\n",
      "2325/2325 [==============================] - 0s 192us/step - loss: 0.7674 - acc: 0.7325 - val_loss: 0.8093 - val_acc: 0.7123\n",
      "Epoch 24/50\n",
      "2325/2325 [==============================] - 0s 202us/step - loss: 0.7740 - acc: 0.7148 - val_loss: 0.8374 - val_acc: 0.6671\n",
      "Epoch 25/50\n",
      "2325/2325 [==============================] - 0s 197us/step - loss: 0.7805 - acc: 0.7333 - val_loss: 0.8576 - val_acc: 0.7084\n",
      "Epoch 26/50\n",
      "2325/2325 [==============================] - 0s 165us/step - loss: 0.7599 - acc: 0.7256 - val_loss: 0.7053 - val_acc: 0.7381\n",
      "Epoch 27/50\n",
      "2325/2325 [==============================] - 0s 170us/step - loss: 0.7235 - acc: 0.7458 - val_loss: 0.7142 - val_acc: 0.7342\n",
      "Epoch 28/50\n",
      "2325/2325 [==============================] - 0s 172us/step - loss: 0.7139 - acc: 0.7419 - val_loss: 0.6611 - val_acc: 0.7755\n",
      "Epoch 29/50\n",
      "2325/2325 [==============================] - 0s 213us/step - loss: 0.7155 - acc: 0.7462 - val_loss: 0.7588 - val_acc: 0.7084\n",
      "Epoch 30/50\n",
      "2325/2325 [==============================] - 0s 209us/step - loss: 0.7086 - acc: 0.7381 - val_loss: 1.0027 - val_acc: 0.6529\n",
      "Epoch 31/50\n",
      "2325/2325 [==============================] - 0s 207us/step - loss: 0.7319 - acc: 0.7329 - val_loss: 0.7377 - val_acc: 0.7213\n",
      "Epoch 32/50\n",
      "2325/2325 [==============================] - 1s 222us/step - loss: 0.7164 - acc: 0.7351 - val_loss: 0.7338 - val_acc: 0.7381\n",
      "Epoch 33/50\n",
      "2325/2325 [==============================] - 0s 199us/step - loss: 0.6991 - acc: 0.7570 - val_loss: 0.7405 - val_acc: 0.7174\n",
      "Epoch 34/50\n",
      "2325/2325 [==============================] - 0s 212us/step - loss: 0.6841 - acc: 0.7622 - val_loss: 0.6979 - val_acc: 0.7381\n",
      "Epoch 35/50\n",
      "2325/2325 [==============================] - 0s 201us/step - loss: 0.6606 - acc: 0.7609 - val_loss: 0.6553 - val_acc: 0.7471\n",
      "Epoch 36/50\n",
      "2325/2325 [==============================] - 0s 208us/step - loss: 0.6704 - acc: 0.7578 - val_loss: 0.8120 - val_acc: 0.7187\n",
      "Epoch 37/50\n",
      "2325/2325 [==============================] - 0s 210us/step - loss: 0.6662 - acc: 0.7622 - val_loss: 0.6556 - val_acc: 0.7600\n",
      "Epoch 38/50\n",
      "2325/2325 [==============================] - 0s 204us/step - loss: 0.6513 - acc: 0.7665 - val_loss: 0.6097 - val_acc: 0.8026\n",
      "Epoch 39/50\n",
      "2325/2325 [==============================] - 0s 206us/step - loss: 0.6367 - acc: 0.7720 - val_loss: 0.6484 - val_acc: 0.7755\n",
      "Epoch 40/50\n",
      "2325/2325 [==============================] - 0s 213us/step - loss: 0.6229 - acc: 0.7695 - val_loss: 0.6601 - val_acc: 0.7574\n",
      "Epoch 41/50\n",
      "2325/2325 [==============================] - 0s 210us/step - loss: 0.6274 - acc: 0.7772 - val_loss: 0.5923 - val_acc: 0.8000\n",
      "Epoch 42/50\n",
      "2325/2325 [==============================] - 1s 222us/step - loss: 0.6220 - acc: 0.7708 - val_loss: 0.6794 - val_acc: 0.7381\n",
      "Epoch 43/50\n",
      "2325/2325 [==============================] - ETA: 0s - loss: 0.5884 - acc: 0.782 - 0s 201us/step - loss: 0.5943 - acc: 0.7806 - val_loss: 0.5339 - val_acc: 0.8039\n",
      "Epoch 44/50\n",
      "2325/2325 [==============================] - 0s 202us/step - loss: 0.5900 - acc: 0.7867 - val_loss: 0.6127 - val_acc: 0.7665\n",
      "Epoch 45/50\n",
      "2325/2325 [==============================] - 0s 214us/step - loss: 0.6185 - acc: 0.7699 - val_loss: 0.6033 - val_acc: 0.7561\n",
      "Epoch 46/50\n",
      "2325/2325 [==============================] - 0s 205us/step - loss: 0.5877 - acc: 0.7953 - val_loss: 0.5622 - val_acc: 0.8039\n",
      "Epoch 47/50\n",
      "2325/2325 [==============================] - 0s 198us/step - loss: 0.5854 - acc: 0.7849 - val_loss: 0.6325 - val_acc: 0.7406\n",
      "Epoch 48/50\n",
      "2325/2325 [==============================] - 0s 208us/step - loss: 0.5485 - acc: 0.8043 - val_loss: 0.5311 - val_acc: 0.8168\n",
      "Epoch 49/50\n",
      "2325/2325 [==============================] - 0s 202us/step - loss: 0.5732 - acc: 0.7867 - val_loss: 0.8098 - val_acc: 0.7045\n",
      "Epoch 50/50\n",
      "2325/2325 [==============================] - 1s 270us/step - loss: 0.5871 - acc: 0.7849 - val_loss: 0.4567 - val_acc: 0.8335\n"
     ]
    },
    {
     "data": {
      "text/plain": [
       "<keras.callbacks.History at 0x23414b47048>"
      ]
     },
     "execution_count": 22,
     "metadata": {},
     "output_type": "execute_result"
    }
   ],
   "source": [
    "model.fit(X_train,y_train,epochs=50,batch_size=20,validation_data=(X_test,y_test))"
   ]
  },
  {
   "cell_type": "code",
   "execution_count": 32,
   "metadata": {},
   "outputs": [],
   "source": [
    "model.save('crop recommendation model 1.h5')"
   ]
  },
  {
   "cell_type": "code",
   "execution_count": null,
   "metadata": {},
   "outputs": [],
   "source": [
    "label=list(labels.columns)"
   ]
  },
  {
   "cell_type": "code",
   "execution_count": 64,
   "metadata": {},
   "outputs": [],
   "source": [
    "def results(test,label):\n",
    "    a=model.predict(test)[0]\n",
    "    res = sorted(range(len(a)), key = lambda sub: a[sub])[-4:]\n",
    "    res.reverse()\n",
    "    for i in res:\n",
    "        print( '{}  :  {} %'.format(label[i],a[i] *100))\n",
    "    "
   ]
  },
  {
   "cell_type": "code",
   "execution_count": 65,
   "metadata": {},
   "outputs": [
    {
     "name": "stdout",
     "output_type": "stream",
     "text": [
      "rice  :  65.9841537475586 %\n",
      "Jute  :  31.207850575447083 %\n",
      "papaya  :  1.189468801021576 %\n",
      "orange  :  0.5352637730538845 %\n"
     ]
    }
   ],
   "source": [
    "results(data2[0:2],label)"
   ]
  },
  {
   "cell_type": "code",
   "execution_count": null,
   "metadata": {},
   "outputs": [],
   "source": []
  }
 ],
 "metadata": {
  "kernelspec": {
   "display_name": "Python 3",
   "language": "python",
   "name": "python3"
  },
  "language_info": {
   "codemirror_mode": {
    "name": "ipython",
    "version": 3
   },
   "file_extension": ".py",
   "mimetype": "text/x-python",
   "name": "python",
   "nbconvert_exporter": "python",
   "pygments_lexer": "ipython3",
   "version": "3.7.1"
  }
 },
 "nbformat": 4,
 "nbformat_minor": 2
}
