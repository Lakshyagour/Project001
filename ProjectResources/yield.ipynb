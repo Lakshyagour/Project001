{
 "cells": [
  {
   "cell_type": "code",
   "execution_count": 256,
   "metadata": {},
   "outputs": [],
   "source": [
    "import numpy as np\n",
    "import pandas as pd\n",
    "import matplotlib.pyplot as plt\n",
    "import seaborn as sns\n",
    "import pickle"
   ]
  },
  {
   "cell_type": "code",
   "execution_count": 268,
   "metadata": {},
   "outputs": [],
   "source": [
    "data=pd.read_csv('cropdata/apy.csv')"
   ]
  },
  {
   "cell_type": "code",
   "execution_count": 258,
   "metadata": {},
   "outputs": [
    {
     "data": {
      "text/html": [
       "<div>\n",
       "<style scoped>\n",
       "    .dataframe tbody tr th:only-of-type {\n",
       "        vertical-align: middle;\n",
       "    }\n",
       "\n",
       "    .dataframe tbody tr th {\n",
       "        vertical-align: top;\n",
       "    }\n",
       "\n",
       "    .dataframe thead th {\n",
       "        text-align: right;\n",
       "    }\n",
       "</style>\n",
       "<table border=\"1\" class=\"dataframe\">\n",
       "  <thead>\n",
       "    <tr style=\"text-align: right;\">\n",
       "      <th></th>\n",
       "      <th>State_Name</th>\n",
       "      <th>District_Name</th>\n",
       "      <th>Crop_Year</th>\n",
       "      <th>Season</th>\n",
       "      <th>Crop</th>\n",
       "      <th>Area</th>\n",
       "      <th>Production</th>\n",
       "    </tr>\n",
       "  </thead>\n",
       "  <tbody>\n",
       "    <tr>\n",
       "      <th>0</th>\n",
       "      <td>Andaman and Nicobar Islands</td>\n",
       "      <td>NICOBARS</td>\n",
       "      <td>2000</td>\n",
       "      <td>Kharif</td>\n",
       "      <td>Arecanut</td>\n",
       "      <td>1254.0</td>\n",
       "      <td>2000.0</td>\n",
       "    </tr>\n",
       "    <tr>\n",
       "      <th>1</th>\n",
       "      <td>Andaman and Nicobar Islands</td>\n",
       "      <td>NICOBARS</td>\n",
       "      <td>2000</td>\n",
       "      <td>Kharif</td>\n",
       "      <td>Other Kharif pulses</td>\n",
       "      <td>2.0</td>\n",
       "      <td>1.0</td>\n",
       "    </tr>\n",
       "    <tr>\n",
       "      <th>2</th>\n",
       "      <td>Andaman and Nicobar Islands</td>\n",
       "      <td>NICOBARS</td>\n",
       "      <td>2000</td>\n",
       "      <td>Kharif</td>\n",
       "      <td>Rice</td>\n",
       "      <td>102.0</td>\n",
       "      <td>321.0</td>\n",
       "    </tr>\n",
       "    <tr>\n",
       "      <th>3</th>\n",
       "      <td>Andaman and Nicobar Islands</td>\n",
       "      <td>NICOBARS</td>\n",
       "      <td>2000</td>\n",
       "      <td>Whole Year</td>\n",
       "      <td>Banana</td>\n",
       "      <td>176.0</td>\n",
       "      <td>641.0</td>\n",
       "    </tr>\n",
       "    <tr>\n",
       "      <th>4</th>\n",
       "      <td>Andaman and Nicobar Islands</td>\n",
       "      <td>NICOBARS</td>\n",
       "      <td>2000</td>\n",
       "      <td>Whole Year</td>\n",
       "      <td>Cashewnut</td>\n",
       "      <td>720.0</td>\n",
       "      <td>165.0</td>\n",
       "    </tr>\n",
       "  </tbody>\n",
       "</table>\n",
       "</div>"
      ],
      "text/plain": [
       "                    State_Name District_Name  Crop_Year       Season  \\\n",
       "0  Andaman and Nicobar Islands      NICOBARS       2000  Kharif        \n",
       "1  Andaman and Nicobar Islands      NICOBARS       2000  Kharif        \n",
       "2  Andaman and Nicobar Islands      NICOBARS       2000  Kharif        \n",
       "3  Andaman and Nicobar Islands      NICOBARS       2000  Whole Year    \n",
       "4  Andaman and Nicobar Islands      NICOBARS       2000  Whole Year    \n",
       "\n",
       "                  Crop    Area  Production  \n",
       "0             Arecanut  1254.0      2000.0  \n",
       "1  Other Kharif pulses     2.0         1.0  \n",
       "2                 Rice   102.0       321.0  \n",
       "3               Banana   176.0       641.0  \n",
       "4            Cashewnut   720.0       165.0  "
      ]
     },
     "execution_count": 258,
     "metadata": {},
     "output_type": "execute_result"
    }
   ],
   "source": [
    "data.head()"
   ]
  },
  {
   "cell_type": "code",
   "execution_count": 259,
   "metadata": {},
   "outputs": [
    {
     "data": {
      "text/plain": [
       "State_Name       False\n",
       "District_Name    False\n",
       "Crop_Year        False\n",
       "Season           False\n",
       "Crop             False\n",
       "Area             False\n",
       "Production        True\n",
       "dtype: bool"
      ]
     },
     "execution_count": 259,
     "metadata": {},
     "output_type": "execute_result"
    }
   ],
   "source": [
    "data.isnull().any()"
   ]
  },
  {
   "cell_type": "code",
   "execution_count": 260,
   "metadata": {},
   "outputs": [],
   "source": [
    "data1=data[data['Crop_Year']==2014]"
   ]
  },
  {
   "cell_type": "code",
   "execution_count": 261,
   "metadata": {},
   "outputs": [
    {
     "name": "stderr",
     "output_type": "stream",
     "text": [
      "C:\\Users\\ajay\\Anaconda3\\lib\\site-packages\\pandas\\core\\generic.py:5434: SettingWithCopyWarning: \n",
      "A value is trying to be set on a copy of a slice from a DataFrame\n",
      "\n",
      "See the caveats in the documentation: http://pandas.pydata.org/pandas-docs/stable/indexing.html#indexing-view-versus-copy\n",
      "  self._update_inplace(new_data)\n"
     ]
    }
   ],
   "source": [
    "data1['Production'].fillna(1,inplace=True)\n",
    "\n"
   ]
  },
  {
   "cell_type": "code",
   "execution_count": 262,
   "metadata": {},
   "outputs": [
    {
     "data": {
      "text/plain": [
       "State_Name       False\n",
       "District_Name    False\n",
       "Crop_Year        False\n",
       "Season           False\n",
       "Crop             False\n",
       "Area             False\n",
       "Production       False\n",
       "dtype: bool"
      ]
     },
     "execution_count": 262,
     "metadata": {},
     "output_type": "execute_result"
    }
   ],
   "source": [
    "data1.isnull().any()\n"
   ]
  },
  {
   "cell_type": "code",
   "execution_count": 263,
   "metadata": {},
   "outputs": [
    {
     "name": "stderr",
     "output_type": "stream",
     "text": [
      "C:\\Users\\ajay\\Anaconda3\\lib\\site-packages\\ipykernel_launcher.py:1: SettingWithCopyWarning: \n",
      "A value is trying to be set on a copy of a slice from a DataFrame.\n",
      "Try using .loc[row_indexer,col_indexer] = value instead\n",
      "\n",
      "See the caveats in the documentation: http://pandas.pydata.org/pandas-docs/stable/indexing.html#indexing-view-versus-copy\n",
      "  \"\"\"Entry point for launching an IPython kernel.\n"
     ]
    }
   ],
   "source": [
    "data1['Yield']=data1['Production']/data1['Area']"
   ]
  },
  {
   "cell_type": "code",
   "execution_count": 254,
   "metadata": {},
   "outputs": [],
   "source": [
    "def crop(dist_name,season,data):\n",
    "    data=data[data['District_Name']==dist_name]\n",
    "    da=data[data['Season']==season]['Crop']\n",
    "    for i in da:\n",
    "        print(i)\n",
    "    return 0\n",
    "def yield_factor(dist_name,season,data):\n",
    "    print('AVILABLE CROPS FOR DISTRICT <<  {}  >> IN SEASON <<  {}>> ARE GIVEN BELOW WITH RESPECT TO THEIR YIELD'.format(dist_name,season))\n",
    "    data=data[data['District_Name']==dist_name]\n",
    "    da=data[data['Season']==season][['Crop','Yield']]\n",
    "    print(da)\n",
    "    return 0\n",
    "    "
   ]
  },
  {
   "cell_type": "code",
   "execution_count": 264,
   "metadata": {
    "scrolled": true
   },
   "outputs": [
    {
     "ename": "TypeError",
     "evalue": "can only concatenate list (not \"str\") to list",
     "output_type": "error",
     "traceback": [
      "\u001b[1;31m---------------------------------------------------------------------------\u001b[0m",
      "\u001b[1;31mTypeError\u001b[0m                                 Traceback (most recent call last)",
      "\u001b[1;32m<ipython-input-264-2ff1c1fc28ca>\u001b[0m in \u001b[0;36m<module>\u001b[1;34m\u001b[0m\n\u001b[1;32m----> 1\u001b[1;33m \u001b[0mseason\u001b[0m\u001b[1;33m=\u001b[0m\u001b[0mseason\u001b[0m\u001b[1;33m+\u001b[0m\u001b[1;34m''\u001b[0m\u001b[1;33m*\u001b[0m\u001b[1;33m(\u001b[0m\u001b[1;36m11\u001b[0m\u001b[1;33m-\u001b[0m\u001b[0mlen\u001b[0m\u001b[1;33m(\u001b[0m\u001b[0mseason\u001b[0m\u001b[1;33m)\u001b[0m\u001b[1;33m)\u001b[0m\u001b[1;33m\u001b[0m\u001b[1;33m\u001b[0m\u001b[0m\n\u001b[0m\u001b[0;32m      2\u001b[0m \u001b[0myield_factor\u001b[0m\u001b[1;33m(\u001b[0m\u001b[1;34m'24 PARAGANAS NORTH'\u001b[0m\u001b[1;33m,\u001b[0m\u001b[1;34m'Autumn     '\u001b[0m\u001b[1;33m,\u001b[0m\u001b[0mdata1\u001b[0m\u001b[1;33m)\u001b[0m\u001b[1;33m\u001b[0m\u001b[1;33m\u001b[0m\u001b[0m\n",
      "\u001b[1;31mTypeError\u001b[0m: can only concatenate list (not \"str\") to list"
     ]
    }
   ],
   "source": [
    "season=season+''*(11-len(season))\n",
    "yield_factor('24 PARAGANAS NORTH','Autumn     ',data1)"
   ]
  },
  {
   "cell_type": "code",
   "execution_count": 269,
   "metadata": {},
   "outputs": [],
   "source": [
    "pin=pd.read_csv('cropdata/pincode.csv')"
   ]
  },
  {
   "cell_type": "code",
   "execution_count": 272,
   "metadata": {},
   "outputs": [
    {
     "data": {
      "text/html": [
       "<div>\n",
       "<style scoped>\n",
       "    .dataframe tbody tr th:only-of-type {\n",
       "        vertical-align: middle;\n",
       "    }\n",
       "\n",
       "    .dataframe tbody tr th {\n",
       "        vertical-align: top;\n",
       "    }\n",
       "\n",
       "    .dataframe thead th {\n",
       "        text-align: right;\n",
       "    }\n",
       "</style>\n",
       "<table border=\"1\" class=\"dataframe\">\n",
       "  <thead>\n",
       "    <tr style=\"text-align: right;\">\n",
       "      <th></th>\n",
       "      <th>officename</th>\n",
       "      <th>pincode</th>\n",
       "      <th>officeType</th>\n",
       "      <th>Deliverystatus</th>\n",
       "      <th>divisionname</th>\n",
       "      <th>regionname</th>\n",
       "      <th>circlename</th>\n",
       "      <th>Taluk</th>\n",
       "      <th>Districtname</th>\n",
       "      <th>statename</th>\n",
       "      <th>Telephone</th>\n",
       "      <th>Related Suboffice</th>\n",
       "      <th>Related Headoffice</th>\n",
       "      <th>longitude</th>\n",
       "      <th>latitude</th>\n",
       "    </tr>\n",
       "  </thead>\n",
       "  <tbody>\n",
       "    <tr>\n",
       "      <th>0</th>\n",
       "      <td>Achalapur B.O</td>\n",
       "      <td>504273</td>\n",
       "      <td>B.O</td>\n",
       "      <td>Delivery</td>\n",
       "      <td>Adilabad</td>\n",
       "      <td>Hyderabad</td>\n",
       "      <td>Andhra Pradesh</td>\n",
       "      <td>Asifabad</td>\n",
       "      <td>Adilabad</td>\n",
       "      <td>TELANGANA</td>\n",
       "      <td>NaN</td>\n",
       "      <td>Rechini S.O</td>\n",
       "      <td>Mancherial H.O</td>\n",
       "      <td>NaN</td>\n",
       "      <td>NaN</td>\n",
       "    </tr>\n",
       "    <tr>\n",
       "      <th>1</th>\n",
       "      <td>Ada B.O</td>\n",
       "      <td>504293</td>\n",
       "      <td>B.O</td>\n",
       "      <td>Delivery</td>\n",
       "      <td>Adilabad</td>\n",
       "      <td>Hyderabad</td>\n",
       "      <td>Andhra Pradesh</td>\n",
       "      <td>Asifabad</td>\n",
       "      <td>Adilabad</td>\n",
       "      <td>TELANGANA</td>\n",
       "      <td>NaN</td>\n",
       "      <td>Asifabad S.O</td>\n",
       "      <td>Mancherial H.O</td>\n",
       "      <td>NaN</td>\n",
       "      <td>NaN</td>\n",
       "    </tr>\n",
       "    <tr>\n",
       "      <th>2</th>\n",
       "      <td>Adegaon B.O</td>\n",
       "      <td>504307</td>\n",
       "      <td>B.O</td>\n",
       "      <td>Delivery</td>\n",
       "      <td>Adilabad</td>\n",
       "      <td>Hyderabad</td>\n",
       "      <td>Andhra Pradesh</td>\n",
       "      <td>Boath</td>\n",
       "      <td>Adilabad</td>\n",
       "      <td>TELANGANA</td>\n",
       "      <td>NaN</td>\n",
       "      <td>Echoda S.O</td>\n",
       "      <td>Adilabad H.O</td>\n",
       "      <td>NaN</td>\n",
       "      <td>NaN</td>\n",
       "    </tr>\n",
       "    <tr>\n",
       "      <th>3</th>\n",
       "      <td>Adilabad Collectorate S.O</td>\n",
       "      <td>504001</td>\n",
       "      <td>S.O</td>\n",
       "      <td>Non-Delivery</td>\n",
       "      <td>Adilabad</td>\n",
       "      <td>Hyderabad</td>\n",
       "      <td>Andhra Pradesh</td>\n",
       "      <td>Adilabad</td>\n",
       "      <td>Adilabad</td>\n",
       "      <td>TELANGANA</td>\n",
       "      <td>08732-226703</td>\n",
       "      <td>NaN</td>\n",
       "      <td>Adilabad H.O</td>\n",
       "      <td>NaN</td>\n",
       "      <td>NaN</td>\n",
       "    </tr>\n",
       "    <tr>\n",
       "      <th>4</th>\n",
       "      <td>Adilabad H.O</td>\n",
       "      <td>504001</td>\n",
       "      <td>H.O</td>\n",
       "      <td>Delivery</td>\n",
       "      <td>Adilabad</td>\n",
       "      <td>Hyderabad</td>\n",
       "      <td>Andhra Pradesh</td>\n",
       "      <td>Adilabad</td>\n",
       "      <td>Adilabad</td>\n",
       "      <td>TELANGANA</td>\n",
       "      <td>08732-226738</td>\n",
       "      <td>NaN</td>\n",
       "      <td>NaN</td>\n",
       "      <td>NaN</td>\n",
       "      <td>NaN</td>\n",
       "    </tr>\n",
       "  </tbody>\n",
       "</table>\n",
       "</div>"
      ],
      "text/plain": [
       "                  officename  pincode officeType Deliverystatus divisionname  \\\n",
       "0              Achalapur B.O   504273        B.O       Delivery     Adilabad   \n",
       "1                    Ada B.O   504293        B.O       Delivery     Adilabad   \n",
       "2                Adegaon B.O   504307        B.O       Delivery     Adilabad   \n",
       "3  Adilabad Collectorate S.O   504001        S.O   Non-Delivery     Adilabad   \n",
       "4               Adilabad H.O   504001        H.O       Delivery     Adilabad   \n",
       "\n",
       "  regionname      circlename     Taluk Districtname  statename     Telephone  \\\n",
       "0  Hyderabad  Andhra Pradesh  Asifabad     Adilabad  TELANGANA           NaN   \n",
       "1  Hyderabad  Andhra Pradesh  Asifabad     Adilabad  TELANGANA           NaN   \n",
       "2  Hyderabad  Andhra Pradesh     Boath     Adilabad  TELANGANA           NaN   \n",
       "3  Hyderabad  Andhra Pradesh  Adilabad     Adilabad  TELANGANA  08732-226703   \n",
       "4  Hyderabad  Andhra Pradesh  Adilabad     Adilabad  TELANGANA  08732-226738   \n",
       "\n",
       "  Related Suboffice Related Headoffice  longitude  latitude  \n",
       "0       Rechini S.O     Mancherial H.O        NaN       NaN  \n",
       "1      Asifabad S.O     Mancherial H.O        NaN       NaN  \n",
       "2        Echoda S.O       Adilabad H.O        NaN       NaN  \n",
       "3               NaN       Adilabad H.O        NaN       NaN  \n",
       "4               NaN                NaN        NaN       NaN  "
      ]
     },
     "execution_count": 272,
     "metadata": {},
     "output_type": "execute_result"
    }
   ],
   "source": [
    "pin.head()"
   ]
  },
  {
   "cell_type": "code",
   "execution_count": 270,
   "metadata": {},
   "outputs": [],
   "source": [
    "punjab=data[data['State_Name']=='Punjab']"
   ]
  },
  {
   "cell_type": "code",
   "execution_count": 301,
   "metadata": {},
   "outputs": [
    {
     "data": {
      "text/html": [
       "<div>\n",
       "<style scoped>\n",
       "    .dataframe tbody tr th:only-of-type {\n",
       "        vertical-align: middle;\n",
       "    }\n",
       "\n",
       "    .dataframe tbody tr th {\n",
       "        vertical-align: top;\n",
       "    }\n",
       "\n",
       "    .dataframe thead th {\n",
       "        text-align: right;\n",
       "    }\n",
       "</style>\n",
       "<table border=\"1\" class=\"dataframe\">\n",
       "  <thead>\n",
       "    <tr style=\"text-align: right;\">\n",
       "      <th></th>\n",
       "      <th>State_Name</th>\n",
       "      <th>District_Name</th>\n",
       "      <th>Crop_Year</th>\n",
       "      <th>Season</th>\n",
       "      <th>Crop</th>\n",
       "      <th>Area</th>\n",
       "      <th>Production</th>\n",
       "    </tr>\n",
       "  </thead>\n",
       "  <tbody>\n",
       "    <tr>\n",
       "      <th>161267</th>\n",
       "      <td>Punjab</td>\n",
       "      <td>AMRITSAR</td>\n",
       "      <td>1997</td>\n",
       "      <td>Kharif</td>\n",
       "      <td>Arhar/Tur</td>\n",
       "      <td>1800.0</td>\n",
       "      <td>1400.0</td>\n",
       "    </tr>\n",
       "    <tr>\n",
       "      <th>161268</th>\n",
       "      <td>Punjab</td>\n",
       "      <td>AMRITSAR</td>\n",
       "      <td>1997</td>\n",
       "      <td>Kharif</td>\n",
       "      <td>Bajra</td>\n",
       "      <td>1000.0</td>\n",
       "      <td>1000.0</td>\n",
       "    </tr>\n",
       "    <tr>\n",
       "      <th>161269</th>\n",
       "      <td>Punjab</td>\n",
       "      <td>AMRITSAR</td>\n",
       "      <td>1997</td>\n",
       "      <td>Kharif</td>\n",
       "      <td>Maize</td>\n",
       "      <td>7000.0</td>\n",
       "      <td>14000.0</td>\n",
       "    </tr>\n",
       "    <tr>\n",
       "      <th>161270</th>\n",
       "      <td>Punjab</td>\n",
       "      <td>AMRITSAR</td>\n",
       "      <td>1997</td>\n",
       "      <td>Kharif</td>\n",
       "      <td>Rice</td>\n",
       "      <td>292000.0</td>\n",
       "      <td>879000.0</td>\n",
       "    </tr>\n",
       "    <tr>\n",
       "      <th>161271</th>\n",
       "      <td>Punjab</td>\n",
       "      <td>AMRITSAR</td>\n",
       "      <td>1997</td>\n",
       "      <td>Kharif</td>\n",
       "      <td>Sesamum</td>\n",
       "      <td>6000.0</td>\n",
       "      <td>1700.0</td>\n",
       "    </tr>\n",
       "  </tbody>\n",
       "</table>\n",
       "</div>"
      ],
      "text/plain": [
       "       State_Name District_Name  Crop_Year       Season       Crop      Area  \\\n",
       "161267     Punjab      AMRITSAR       1997  Kharif       Arhar/Tur    1800.0   \n",
       "161268     Punjab      AMRITSAR       1997  Kharif           Bajra    1000.0   \n",
       "161269     Punjab      AMRITSAR       1997  Kharif           Maize    7000.0   \n",
       "161270     Punjab      AMRITSAR       1997  Kharif            Rice  292000.0   \n",
       "161271     Punjab      AMRITSAR       1997  Kharif         Sesamum    6000.0   \n",
       "\n",
       "        Production  \n",
       "161267      1400.0  \n",
       "161268      1000.0  \n",
       "161269     14000.0  \n",
       "161270    879000.0  \n",
       "161271      1700.0  "
      ]
     },
     "execution_count": 301,
     "metadata": {},
     "output_type": "execute_result"
    }
   ],
   "source": [
    "punjab.head()"
   ]
  },
  {
   "cell_type": "code",
   "execution_count": 274,
   "metadata": {},
   "outputs": [],
   "source": [
    "punjab_pin=pin[pin['statename']=='PUNJAB']"
   ]
  },
  {
   "cell_type": "code",
   "execution_count": 300,
   "metadata": {},
   "outputs": [
    {
     "data": {
      "text/html": [
       "<div>\n",
       "<style scoped>\n",
       "    .dataframe tbody tr th:only-of-type {\n",
       "        vertical-align: middle;\n",
       "    }\n",
       "\n",
       "    .dataframe tbody tr th {\n",
       "        vertical-align: top;\n",
       "    }\n",
       "\n",
       "    .dataframe thead th {\n",
       "        text-align: right;\n",
       "    }\n",
       "</style>\n",
       "<table border=\"1\" class=\"dataframe\">\n",
       "  <thead>\n",
       "    <tr style=\"text-align: right;\">\n",
       "      <th></th>\n",
       "      <th>officename</th>\n",
       "      <th>pincode</th>\n",
       "      <th>officeType</th>\n",
       "      <th>Deliverystatus</th>\n",
       "      <th>divisionname</th>\n",
       "      <th>regionname</th>\n",
       "      <th>circlename</th>\n",
       "      <th>Taluk</th>\n",
       "      <th>Districtname</th>\n",
       "      <th>statename</th>\n",
       "      <th>Telephone</th>\n",
       "      <th>Related Suboffice</th>\n",
       "      <th>Related Headoffice</th>\n",
       "      <th>longitude</th>\n",
       "      <th>latitude</th>\n",
       "    </tr>\n",
       "  </thead>\n",
       "  <tbody>\n",
       "    <tr>\n",
       "      <th>99212</th>\n",
       "      <td>Agampur B.O</td>\n",
       "      <td>140118</td>\n",
       "      <td>B.O</td>\n",
       "      <td>Delivery</td>\n",
       "      <td>Chandigarh</td>\n",
       "      <td>Chandigarh HQ</td>\n",
       "      <td>Punjab</td>\n",
       "      <td>Ropar</td>\n",
       "      <td>Ropar</td>\n",
       "      <td>PUNJAB</td>\n",
       "      <td>NaN</td>\n",
       "      <td>Anand Pur Sahib S.O</td>\n",
       "      <td>Ropar H.O</td>\n",
       "      <td>NaN</td>\n",
       "      <td>NaN</td>\n",
       "    </tr>\n",
       "    <tr>\n",
       "      <th>99215</th>\n",
       "      <td>Allahpur B.O</td>\n",
       "      <td>140103</td>\n",
       "      <td>B.O</td>\n",
       "      <td>Delivery</td>\n",
       "      <td>Chandigarh</td>\n",
       "      <td>Chandigarh HQ</td>\n",
       "      <td>Punjab</td>\n",
       "      <td>NaN</td>\n",
       "      <td>Mohali</td>\n",
       "      <td>PUNJAB</td>\n",
       "      <td>NaN</td>\n",
       "      <td>Kurali S.O</td>\n",
       "      <td>Ropar H.O</td>\n",
       "      <td>NaN</td>\n",
       "      <td>NaN</td>\n",
       "    </tr>\n",
       "  </tbody>\n",
       "</table>\n",
       "</div>"
      ],
      "text/plain": [
       "         officename  pincode officeType Deliverystatus divisionname  \\\n",
       "99212   Agampur B.O   140118        B.O       Delivery   Chandigarh   \n",
       "99215  Allahpur B.O   140103        B.O       Delivery   Chandigarh   \n",
       "\n",
       "          regionname circlename  Taluk Districtname statename Telephone  \\\n",
       "99212  Chandigarh HQ     Punjab  Ropar        Ropar    PUNJAB       NaN   \n",
       "99215  Chandigarh HQ     Punjab    NaN       Mohali    PUNJAB       NaN   \n",
       "\n",
       "         Related Suboffice Related Headoffice  longitude  latitude  \n",
       "99212  Anand Pur Sahib S.O          Ropar H.O        NaN       NaN  \n",
       "99215           Kurali S.O          Ropar H.O        NaN       NaN  "
      ]
     },
     "execution_count": 300,
     "metadata": {},
     "output_type": "execute_result"
    }
   ],
   "source": [
    "punjab_pin.head(2)"
   ]
  },
  {
   "cell_type": "code",
   "execution_count": 277,
   "metadata": {},
   "outputs": [],
   "source": [
    "dist_pin=punjab_pin[['Districtname','pincode']]"
   ]
  },
  {
   "cell_type": "code",
   "execution_count": 294,
   "metadata": {},
   "outputs": [],
   "source": [
    "dist_pin.to_csv('punjab_different_pincode.csv')"
   ]
  },
  {
   "cell_type": "code",
   "execution_count": 282,
   "metadata": {},
   "outputs": [
    {
     "name": "stderr",
     "output_type": "stream",
     "text": [
      "C:\\Users\\ajay\\Anaconda3\\lib\\site-packages\\ipykernel_launcher.py:1: SettingWithCopyWarning: \n",
      "A value is trying to be set on a copy of a slice from a DataFrame\n",
      "\n",
      "See the caveats in the documentation: http://pandas.pydata.org/pandas-docs/stable/indexing.html#indexing-view-versus-copy\n",
      "  \"\"\"Entry point for launching an IPython kernel.\n"
     ]
    }
   ],
   "source": [
    "dist_pin.drop_duplicates(inplace=True)"
   ]
  },
  {
   "cell_type": "code",
   "execution_count": 283,
   "metadata": {},
   "outputs": [
    {
     "data": {
      "text/plain": [
       "627"
      ]
     },
     "execution_count": 283,
     "metadata": {},
     "output_type": "execute_result"
    }
   ],
   "source": [
    "len(dist_pin)"
   ]
  },
  {
   "cell_type": "code",
   "execution_count": 285,
   "metadata": {},
   "outputs": [],
   "source": [
    "dist_pin;"
   ]
  },
  {
   "cell_type": "code",
   "execution_count": 290,
   "metadata": {},
   "outputs": [],
   "source": [
    "pun_dist_crop=punjab['Crop'].unique()"
   ]
  },
  {
   "cell_type": "code",
   "execution_count": 299,
   "metadata": {},
   "outputs": [
    {
     "data": {
      "text/plain": [
       "array(['Arhar/Tur', 'Bajra', 'Maize', 'Rice', 'Sesamum', 'Urad', 'Gram',\n",
       "       'Masoor', 'Rapeseed &Mustard', 'Wheat', 'Cotton(lint)',\n",
       "       'Moong(Green Gram)', 'Sugarcane', 'Peas & beans (Pulses)',\n",
       "       'Other  Rabi pulses', 'Sunflower', 'Guar seed', 'Barley',\n",
       "       'Groundnut', 'Moth', 'Jowar', 'Linseed'], dtype=object)"
      ]
     },
     "execution_count": 299,
     "metadata": {},
     "output_type": "execute_result"
    }
   ],
   "source": [
    "pun_dist_crop"
   ]
  },
  {
   "cell_type": "code",
   "execution_count": 314,
   "metadata": {},
   "outputs": [],
   "source": [
    "li=['Arhar/Tur','Peas & beans (Pulses)','Cotton(lint)','Moong(Green Gram)','Rapeseed &Mustard']\n",
    "dic={'Arhar/Tur':'Arhar','Peas & beans (Pulses)':'Pea','Cotton(lint)':'Cotton','Moong(Green Gram)':'Moong','Rapeseed &Mustard':'Rapeseed'}"
   ]
  },
  {
   "cell_type": "code",
   "execution_count": 317,
   "metadata": {},
   "outputs": [
    {
     "data": {
      "text/html": [
       "<div>\n",
       "<style scoped>\n",
       "    .dataframe tbody tr th:only-of-type {\n",
       "        vertical-align: middle;\n",
       "    }\n",
       "\n",
       "    .dataframe tbody tr th {\n",
       "        vertical-align: top;\n",
       "    }\n",
       "\n",
       "    .dataframe thead th {\n",
       "        text-align: right;\n",
       "    }\n",
       "</style>\n",
       "<table border=\"1\" class=\"dataframe\">\n",
       "  <thead>\n",
       "    <tr style=\"text-align: right;\">\n",
       "      <th></th>\n",
       "      <th>State_Name</th>\n",
       "      <th>District_Name</th>\n",
       "      <th>Crop_Year</th>\n",
       "      <th>Season</th>\n",
       "      <th>Crop</th>\n",
       "      <th>Area</th>\n",
       "      <th>Production</th>\n",
       "    </tr>\n",
       "  </thead>\n",
       "  <tbody>\n",
       "    <tr>\n",
       "      <th>161267</th>\n",
       "      <td>Punjab</td>\n",
       "      <td>AMRITSAR</td>\n",
       "      <td>1997</td>\n",
       "      <td>Kharif</td>\n",
       "      <td>Arhar</td>\n",
       "      <td>1800.0</td>\n",
       "      <td>1400.0</td>\n",
       "    </tr>\n",
       "  </tbody>\n",
       "</table>\n",
       "</div>"
      ],
      "text/plain": [
       "       State_Name District_Name  Crop_Year       Season   Crop    Area  \\\n",
       "161267     Punjab      AMRITSAR       1997  Kharif       Arhar  1800.0   \n",
       "\n",
       "        Production  \n",
       "161267      1400.0  "
      ]
     },
     "execution_count": 317,
     "metadata": {},
     "output_type": "execute_result"
    }
   ],
   "source": [
    "punjab.head(1)"
   ]
  },
  {
   "cell_type": "code",
   "execution_count": 316,
   "metadata": {},
   "outputs": [
    {
     "name": "stderr",
     "output_type": "stream",
     "text": [
      "C:\\Users\\ajay\\Anaconda3\\lib\\site-packages\\pandas\\core\\indexing.py:543: SettingWithCopyWarning: \n",
      "A value is trying to be set on a copy of a slice from a DataFrame.\n",
      "Try using .loc[row_indexer,col_indexer] = value instead\n",
      "\n",
      "See the caveats in the documentation: http://pandas.pydata.org/pandas-docs/stable/indexing.html#indexing-view-versus-copy\n",
      "  self.obj[item] = s\n"
     ]
    }
   ],
   "source": [
    "for i in range(0,len(punjab)):\n",
    "    d=punjab.iloc[i,4]\n",
    "    if (d in li):\n",
    "        punjab.iloc[i,4]=dic[d]\n",
    "    "
   ]
  },
  {
   "cell_type": "code",
   "execution_count": 318,
   "metadata": {},
   "outputs": [],
   "source": [
    "punjab.to_csv('punjab_crop.csv')"
   ]
  },
  {
   "cell_type": "code",
   "execution_count": null,
   "metadata": {},
   "outputs": [],
   "source": []
  }
 ],
 "metadata": {
  "kernelspec": {
   "display_name": "Python 3",
   "language": "python",
   "name": "python3"
  },
  "language_info": {
   "codemirror_mode": {
    "name": "ipython",
    "version": 3
   },
   "file_extension": ".py",
   "mimetype": "text/x-python",
   "name": "python",
   "nbconvert_exporter": "python",
   "pygments_lexer": "ipython3",
   "version": "3.7.1"
  }
 },
 "nbformat": 4,
 "nbformat_minor": 2
}
