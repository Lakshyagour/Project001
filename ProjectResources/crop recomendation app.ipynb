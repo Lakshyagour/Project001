{
 "cells": [
  {
   "cell_type": "code",
   "execution_count": 2,
   "metadata": {},
   "outputs": [],
   "source": [
    "from keras.models import load_model\n",
    "from flask import Flask,render_template,request\n",
    "from flask_wtf import FlaskForm\n",
    "from wtforms import StringField,SubmitField\n",
    "import pandas as pd\n",
    "import numpy as np"
   ]
  },
  {
   "cell_type": "code",
   "execution_count": 3,
   "metadata": {},
   "outputs": [
    {
     "name": "stdout",
     "output_type": "stream",
     "text": [
      "WARNING:tensorflow:From C:\\Users\\ajay\\Anaconda3\\lib\\site-packages\\tensorflow\\python\\framework\\op_def_library.py:263: colocate_with (from tensorflow.python.framework.ops) is deprecated and will be removed in a future version.\n",
      "Instructions for updating:\n",
      "Colocations handled automatically by placer.\n",
      "WARNING:tensorflow:From C:\\Users\\ajay\\Anaconda3\\lib\\site-packages\\tensorflow\\python\\ops\\math_ops.py:3066: to_int32 (from tensorflow.python.ops.math_ops) is deprecated and will be removed in a future version.\n",
      "Instructions for updating:\n",
      "Use tf.cast instead.\n"
     ]
    }
   ],
   "source": [
    "model=load_model('crop recommendation model 1.h5')"
   ]
  },
  {
   "cell_type": "code",
   "execution_count": 4,
   "metadata": {},
   "outputs": [
    {
     "name": "stdout",
     "output_type": "stream",
     "text": [
      "_________________________________________________________________\n",
      "Layer (type)                 Output Shape              Param #   \n",
      "=================================================================\n",
      "dense_1 (Dense)              (None, 100)               500       \n",
      "_________________________________________________________________\n",
      "dense_2 (Dense)              (None, 50)                5050      \n",
      "_________________________________________________________________\n",
      "batch_normalization_1 (Batch (None, 50)                200       \n",
      "_________________________________________________________________\n",
      "dense_3 (Dense)              (None, 31)                1581      \n",
      "=================================================================\n",
      "Total params: 7,331\n",
      "Trainable params: 7,231\n",
      "Non-trainable params: 100\n",
      "_________________________________________________________________\n"
     ]
    }
   ],
   "source": [
    "model.summary()"
   ]
  },
  {
   "cell_type": "code",
   "execution_count": 5,
   "metadata": {},
   "outputs": [],
   "source": [
    "data=pd.read_csv('cpdata.csv')"
   ]
  },
  {
   "cell_type": "code",
   "execution_count": 6,
   "metadata": {},
   "outputs": [],
   "source": [
    "labels=pd.get_dummies(data['label'])"
   ]
  },
  {
   "cell_type": "code",
   "execution_count": 7,
   "metadata": {},
   "outputs": [],
   "source": [
    "label=list(labels.columns)"
   ]
  },
  {
   "cell_type": "code",
   "execution_count": 8,
   "metadata": {},
   "outputs": [],
   "source": [
    "# def results(test,label):\n",
    "#     a=model.predict(test)[0]\n",
    "#     res = sorted(range(len(a)), key = lambda sub: a[sub])[-4:]\n",
    "#     res.reverse()\n",
    "#     for i in res:\n",
    "#         print( '{}  :  {} %'.format(label[i],a[i] *100))\n",
    "    "
   ]
  },
  {
   "cell_type": "code",
   "execution_count": null,
   "metadata": {},
   "outputs": [
    {
     "name": "stdout",
     "output_type": "stream",
     "text": [
      " * Serving Flask app \"__main__\" (lazy loading)\n",
      " * Environment: production\n",
      "   WARNING: Do not use the development server in a production environment.\n",
      "   Use a production WSGI server instead.\n",
      " * Debug mode: off\n"
     ]
    },
    {
     "name": "stderr",
     "output_type": "stream",
     "text": [
      " * Running on http://127.0.0.1:5000/ (Press CTRL+C to quit)\n",
      "127.0.0.1 - - [22/Dec/2020 13:07:30] \"\u001b[37mGET / HTTP/1.1\u001b[0m\" 200 -\n",
      "127.0.0.1 - - [22/Dec/2020 13:07:42] \"\u001b[37mPOST /results HTTP/1.1\u001b[0m\" 200 -\n"
     ]
    }
   ],
   "source": [
    "def results(test,label=label,model=model):\n",
    "    a=model.predict(test)[0]\n",
    "    res = sorted(range(len(a)), key = lambda sub: a[sub])[-4:]\n",
    "    res.reverse()\n",
    "    crop=[]\n",
    "    precent=[]\n",
    "    for i in res:\n",
    "        crop.append(label[i])\n",
    "        precent.append(round(a[i]*100,2))\n",
    "    return(crop,precent)\n",
    "\n",
    "\n",
    "app=Flask(__name__,template_folder='Template',static_folder='static')\n",
    "\n",
    "    \n",
    "@app.route('/')\n",
    "def pred_home_page():\n",
    "    return render_template('crop predict1.html')\n",
    "    \n",
    "@app.route('/results',methods=['POST','GET'])\n",
    "def pred_result(func=results):\n",
    "    temprature=request.form['Temprature']\n",
    "    humidity=request.form['Humidity']\n",
    "    ph=request.form['Ph']\n",
    "    rainfall=request.form['Rainfall']\n",
    "    input_data=np.array([temprature,humidity,ph,rainfall])\n",
    "    input_data=input_data.reshape(1,4)\n",
    "    (crop,precent)=func(input_data)\n",
    "    \n",
    "    return render_template('Crop Pred Res.html',crop=crop,precent=precent)\n",
    "app.run()\n",
    "    "
   ]
  },
  {
   "cell_type": "code",
   "execution_count": null,
   "metadata": {},
   "outputs": [],
   "source": []
  }
 ],
 "metadata": {
  "kernelspec": {
   "display_name": "Python 3",
   "language": "python",
   "name": "python3"
  },
  "language_info": {
   "codemirror_mode": {
    "name": "ipython",
    "version": 3
   },
   "file_extension": ".py",
   "mimetype": "text/x-python",
   "name": "python",
   "nbconvert_exporter": "python",
   "pygments_lexer": "ipython3",
   "version": "3.7.1"
  }
 },
 "nbformat": 4,
 "nbformat_minor": 2
}
